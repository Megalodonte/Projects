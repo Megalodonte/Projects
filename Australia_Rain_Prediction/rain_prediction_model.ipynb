{
  "nbformat": 4,
  "nbformat_minor": 0,
  "metadata": {
    "colab": {
      "provenance": []
    },
    "kernelspec": {
      "name": "python3",
      "display_name": "Python 3"
    },
    "language_info": {
      "name": "python"
    },
    "accelerator": "GPU",
    "gpuClass": "standard"
  },
  "cells": [
    {
      "cell_type": "markdown",
      "source": [
        "# RAIN IN AUSTRALIA Model part\n",
        "\n",
        "*Authors: Petrillo Daniele, Zampella Maria*"
      ],
      "metadata": {
        "id": "ZhRGRgsCVgDI"
      }
    },
    {
      "cell_type": "code",
      "source": [
        "import pandas as pd\n",
        "import numpy as np\n",
        "import matplotlib.pyplot as plt\n",
        "\n",
        "from sklearn.model_selection import train_test_split # for splitting the dataset\n",
        "from sklearn.ensemble import RandomForestClassifier\n",
        "\n",
        "from sklearn.model_selection import learning_curve\n",
        "from sklearn.ensemble import VotingClassifier\n",
        "\n",
        "from sklearn.feature_selection import VarianceThreshold,SequentialFeatureSelector\n",
        "from sklearn.neighbors import KNeighborsClassifier\n",
        "from sklearn.preprocessing import StandardScaler\n",
        "from sklearn.decomposition import PCA,KernelPCA\n",
        "from sklearn.discriminant_analysis import LinearDiscriminantAnalysis as LDA\n",
        "\n",
        "from sklearn.linear_model import LogisticRegression, Perceptron\n",
        "\n",
        "from sklearn.model_selection import GridSearchCV, StratifiedKFold , KFold, cross_val_score, learning_curve\n",
        "from sklearn.metrics import accuracy_score,precision_score,recall_score , f1_score,confusion_matrix\n",
        "\n",
        "from sklearn.metrics import roc_curve\n",
        "from sklearn.metrics import auc\n",
        "\n",
        "import keras\n",
        "from keras.models import Sequential\n",
        "from keras.layers import Dense"
      ],
      "metadata": {
        "id": "zmYR-1MDtXuS"
      },
      "execution_count": null,
      "outputs": []
    },
    {
      "cell_type": "code",
      "source": [
        "import warnings\n",
        "warnings.filterwarnings(\"ignore\")"
      ],
      "metadata": {
        "id": "1Eg3YIXilzUH"
      },
      "execution_count": null,
      "outputs": []
    },
    {
      "cell_type": "markdown",
      "source": [
        "First we define a function for plotting the learning curves."
      ],
      "metadata": {
        "id": "kjxxTMia1-GU"
      }
    },
    {
      "cell_type": "code",
      "source": [
        "# We define a function which draws the learning curve.\n",
        "def learning_curves(estimator,X_train_std,y_train):\n",
        "  train_sizes, train_scores , test_scores = learning_curve (estimator=estimator , X=X_train_std, y=y_train, train_sizes =np.linspace(0.1, 1.0, 10), cv=10, n_jobs=1,scoring='precision')\n",
        "\n",
        "  train_mean = np.mean(train_scores, axis=1)\n",
        "  train_std = np.std( train_scores , axis=1)\n",
        "  test_mean = np.mean(test_scores, axis=1)\n",
        "  test_std = np.std( test_scores , axis=1)\n",
        "\n",
        "  #Now let's plot the learning curve function\n",
        "\n",
        "  #plot the results for the train\n",
        "  plt.plot( train_sizes , train_mean, color='blue', marker='o', markersize=5, label='Training precision' )\n",
        "  #plot also the region in which varies the accuracy\n",
        "  plt.fill_between ( train_sizes , train_mean + train_std , train_mean - train_std , alpha=0.15, color='blue')\n",
        "\n",
        "  #plot the results as previous but for the test\n",
        "  plt.plot( train_sizes , test_mean, color='green', linestyle ='--', marker='s', markersize=5, label='Validation precision' )\n",
        "  plt.fill_between ( train_sizes , test_mean + test_std , test_mean - test_std , alpha=0.15, color='green')\n",
        "\n",
        "  plt.grid()\n",
        "  plt.xlabel('Number of training examples')\n",
        "  plt.ylabel('Precision')\n",
        "  plt.legend(loc='lower right' )\n",
        "  plt.show()"
      ],
      "metadata": {
        "id": "wO5mavml19TI"
      },
      "execution_count": null,
      "outputs": []
    },
    {
      "cell_type": "markdown",
      "source": [
        "## **Datasets**\n",
        "\n"
      ],
      "metadata": {
        "id": "HmtTEBKwqhI9"
      }
    },
    {
      "cell_type": "code",
      "execution_count": null,
      "metadata": {
        "colab": {
          "base_uri": "https://localhost:8080/"
        },
        "id": "u6j6bMH_qN4k",
        "outputId": "0595396d-a546-4c4a-dae6-367f57ea23cd"
      },
      "outputs": [
        {
          "output_type": "stream",
          "name": "stdout",
          "text": [
            "Mounted at /content/gdrive\n"
          ]
        }
      ],
      "source": [
        "from google.colab import drive\n",
        "drive.mount(\"/content/gdrive\", force_remount=True)"
      ]
    },
    {
      "cell_type": "code",
      "source": [
        "# First, we create a file in which we write the scores obtain for each model, each time that we run the code with a different dataset.\n",
        "\n",
        "results = open(\"gdrive/MyDrive/mlxp/model_results_randomfor.txt\", \"w\")\n"
      ],
      "metadata": {
        "id": "xMXqH49sFEm-"
      },
      "execution_count": null,
      "outputs": []
    },
    {
      "cell_type": "markdown",
      "source": [
        "First, we load the datasets that we have previously build."
      ],
      "metadata": {
        "id": "hv_EdayttmW6"
      }
    },
    {
      "cell_type": "code",
      "source": [
        "dataset = pd.read_csv(\"gdrive/MyDrive/mlxp/weatherAUS.csv\") #original dataset\n",
        "df_num = pd.read_csv(\"gdrive/MyDrive/mlxp/df_num.csv\") #dataset which contains only the numerical columns\n",
        "df_num_rolling = pd.read_csv(\"gdrive/MyDrive/mlxp/df_num_rolling.csv\") #dataset which contains the numerical columns and the rolling mean of that columns\n",
        "df_filled = pd.read_csv(\"gdrive/MyDrive/mlxp/df_filled.csv\") #dataset which contains data,location, all the numerical columns and all the categorical columns\n",
        "location_dummy = pd.read_csv(\"gdrive/MyDrive/mlxp/location_dummy.csv\") #dataset which contains the dummy variable for the location column\n",
        "wind_dummy = pd.read_csv(\"gdrive/MyDrive/mlxp/wind_dummy.csv\") #dataset which contains the dummy variable for the 3 categorical columns referred to wind\n",
        "month_dummy = pd.read_csv(\"gdrive/MyDrive/mlxp/month_dummy.csv\") #dataset which contains the dummy variable for the month (obtained from the date column)\n",
        "df_binaries = pd.read_csv(\"gdrive/MyDrive/mlxp/df_binaries.csv\") #dataset which contains the column RainToday and RainTomorrow encoded with 0 and 1.\n"
      ],
      "metadata": {
        "id": "-M4vf5DQq0AW"
      },
      "execution_count": null,
      "outputs": []
    },
    {
      "cell_type": "code",
      "source": [
        "X_train_pca = np.loadtxt(\"gdrive/MyDrive/mlxp/pca/x_train_pca.txt\") \n",
        "X_test_pca = np.loadtxt(\"gdrive/MyDrive/mlxp/pca/x_test_pca.txt\") \n",
        "X_train_lda = np.loadtxt(\"gdrive/MyDrive/mlxp/pca/x_train_lda.txt\") \n",
        "X_test_lda = np.loadtxt(\"gdrive/MyDrive/mlxp/pca/x_test_lda.txt\")\n",
        "y_train_pca = np.loadtxt(\"gdrive/MyDrive/mlxp/pca/y_train_pca.txt\") \n",
        "y_test_pca = np.loadtxt(\"gdrive/MyDrive/mlxp/pca/y_test_pca.txt\") \n"
      ],
      "metadata": {
        "id": "1ryddYtSv2Cp"
      },
      "execution_count": null,
      "outputs": []
    },
    {
      "cell_type": "markdown",
      "source": [
        "Then, we create the dataset we want to use for our analysis by composing the piece of dataset that we want"
      ],
      "metadata": {
        "id": "4gyCRG5Ots44"
      }
    },
    {
      "cell_type": "code",
      "source": [
        "df = pd.concat([df_num_rolling,df_binaries], axis = 1)\n",
        "df.columns\n",
        "results.write('The dataset used contains: df_num_rolling,df_binaries \\n')"
      ],
      "metadata": {
        "colab": {
          "base_uri": "https://localhost:8080/"
        },
        "id": "vGd7_A9Vt2F6",
        "outputId": "12908c4d-6a33-4957-a0f3-854d9ef3f60d"
      },
      "execution_count": null,
      "outputs": [
        {
          "output_type": "execute_result",
          "data": {
            "text/plain": [
              "55"
            ]
          },
          "metadata": {},
          "execution_count": 41
        }
      ]
    },
    {
      "cell_type": "markdown",
      "source": [
        "Successively, we split the dataset into train and test and then we standardize it."
      ],
      "metadata": {
        "id": "bM7bLMRtvPqv"
      }
    },
    {
      "cell_type": "code",
      "source": [
        "X = df.drop(['RainTomorrow'],axis=1)\n",
        "y = df['RainTomorrow']\n",
        "\n",
        "X_train, X_test, y_train, y_test = train_test_split(X,y,test_size=0.2, random_state=1,stratify=y) #80% train, 20%test\n"
      ],
      "metadata": {
        "id": "meZdlYE7vN0_"
      },
      "execution_count": null,
      "outputs": []
    },
    {
      "cell_type": "code",
      "source": [
        "stdsc=StandardScaler()\n",
        "\n",
        "X_train_std = stdsc.fit_transform(X_train)\n",
        "X_test_std = stdsc.transform(X_test)\n"
      ],
      "metadata": {
        "id": "M5edFVyUvtwa"
      },
      "execution_count": null,
      "outputs": []
    },
    {
      "cell_type": "code",
      "source": [
        "#per lda\n",
        "# X_train_std = X_train_pca\n",
        "# X_test_std=X_test_pca\n",
        "# y_train = y_train_pca\n",
        "# y_test = y_test_pca"
      ],
      "metadata": {
        "id": "PNcdMOuy3hjh"
      },
      "execution_count": null,
      "outputs": []
    },
    {
      "cell_type": "markdown",
      "source": [
        "## **Statistical Model**"
      ],
      "metadata": {
        "id": "CE7r18n9qnS3"
      }
    },
    {
      "cell_type": "markdown",
      "source": [
        "### **Perceptron**\n",
        "\n",
        "The first model we apply is the Perceptron. As score we use the recall because our dataset is unbalanced so using the classical accuracy socre could return a not reliable result."
      ],
      "metadata": {
        "id": "-p_n9R6yqrhc"
      }
    },
    {
      "cell_type": "code",
      "source": [
        "# We apply GridSearch for finding the best combination of parameter.\n",
        "param_grid = [{'eta0': [0.01, 0.1, 0.5, 1], 'penalty':['l1','l2']}]\n",
        "\n",
        "gs_ppn = GridSearchCV(estimator=Perceptron(), param_grid=param_grid, scoring='precision', cv=10, refit =True, n_jobs=-1)\n",
        "gs_ppn = gs_ppn.fit(X_train_std, y_train )\n",
        "ppn = gs_ppn.best_estimator_\n",
        "\n",
        "print(gs_ppn.best_score_)\n",
        "print(gs_ppn.best_params_)\n",
        "\n",
        "results.write('PERCEPTRON \\n best_parameter: '+ str(gs_ppn.best_params_)+ '\\n')"
      ],
      "metadata": {
        "colab": {
          "base_uri": "https://localhost:8080/"
        },
        "id": "jPCXCHbWxPiM",
        "outputId": "c0d39aa3-ef49-46c7-db7f-a95184aa6fa9"
      },
      "execution_count": null,
      "outputs": [
        {
          "output_type": "stream",
          "name": "stdout",
          "text": [
            "0.6126833252992061\n",
            "{'eta0': 0.5, 'penalty': 'l1'}\n"
          ]
        },
        {
          "output_type": "execute_result",
          "data": {
            "text/plain": [
              "60"
            ]
          },
          "metadata": {},
          "execution_count": 45
        }
      ]
    },
    {
      "cell_type": "code",
      "source": [
        "skf = StratifiedKFold( n_splits =10)\n",
        "kfold = skf.get_n_splits(X_train_std, y_train)\n",
        "\n",
        "scores = cross_val_score(estimator=ppn, X=X_train_std, y=y_train, cv=10, n_jobs=1, scoring='precision')\n",
        "\n",
        "print('Perceptron precision: %.3f +/- %.3f' % (np.mean(scores), np.std( scores )))\n",
        "\n",
        "results.write('train precision: %.3f +/- %.3f' % (np.mean(scores), np.std( scores )) +'\\n' )"
      ],
      "metadata": {
        "colab": {
          "base_uri": "https://localhost:8080/"
        },
        "id": "ZV-B0G9lywbd",
        "outputId": "c05b3c4b-fd63-455a-94f9-b0c08ce9609b"
      },
      "execution_count": null,
      "outputs": [
        {
          "output_type": "stream",
          "name": "stdout",
          "text": [
            "Perceptron precision: 0.613 +/- 0.142\n"
          ]
        },
        {
          "output_type": "execute_result",
          "data": {
            "text/plain": [
              "33"
            ]
          },
          "metadata": {},
          "execution_count": 46
        }
      ]
    },
    {
      "cell_type": "code",
      "source": [
        "#Now that we have found the best combination of parameter we can apply the best model to fit the test dataset\n",
        "\n",
        "y_pred_ppn = ppn.predict(X_test_std)\n",
        "\n",
        "print('Test precision: %.3f' % precision_score (y_test, y_pred_ppn ))\n",
        "print('Misclassified samples: %d' %(y_test != y_pred_ppn).sum())\n",
        "\n",
        "results.write('test precision: %.3f' % precision_score (y_test, y_pred_ppn ) + '\\n')\n",
        "results.write('Misclassified samples: %d' %(y_test != y_pred_ppn).sum() + '\\n')"
      ],
      "metadata": {
        "colab": {
          "base_uri": "https://localhost:8080/"
        },
        "id": "D-qcxsqYziFo",
        "outputId": "176bdccb-48c0-4670-e23f-b10f55eee4aa"
      },
      "execution_count": null,
      "outputs": [
        {
          "output_type": "stream",
          "name": "stdout",
          "text": [
            "Test precision: 0.602\n",
            "Misclassified samples: 4608\n"
          ]
        },
        {
          "output_type": "execute_result",
          "data": {
            "text/plain": [
              "28"
            ]
          },
          "metadata": {},
          "execution_count": 47
        }
      ]
    },
    {
      "cell_type": "code",
      "source": [
        "#confusion matrix\n",
        "confmat = confusion_matrix(y_true=y_test, y_pred=y_pred_ppn)\n",
        "\n",
        "#Now let's plot it\n",
        "fig, ax = plt.subplots ( figsize =(2.5, 2.5) )\n",
        "ax.matshow(confmat, cmap=plt.cm.Blues, alpha=0.3)\n",
        "for i in range(confmat.shape[0]) :\n",
        "    for j in range(confmat.shape[1]) :\n",
        "        ax.text (x=j, y=i, s=confmat[i, j ], va='center' , ha='center')\n",
        "plt.xlabel('Predicted label' )\n",
        "plt.ylabel('True label' )\n",
        "plt.show()"
      ],
      "metadata": {
        "colab": {
          "base_uri": "https://localhost:8080/",
          "height": 198
        },
        "id": "NdWlqHRezu3J",
        "outputId": "9b54f468-ed62-486d-ebd8-8830dcb7e33a"
      },
      "execution_count": null,
      "outputs": [
        {
          "output_type": "display_data",
          "data": {
            "text/plain": [
              "<Figure size 180x180 with 1 Axes>"
            ],
            "image/png": "[encoded data removed]"
          },
          "metadata": {
            "needs_background": "light"
          }
        }
      ]
    },
    {
      "cell_type": "code",
      "source": [
        "precision_ppn =precision_score (y_true=y_test, y_pred=y_pred_ppn)\n",
        "recall_ppn =recall_score (y_true=y_test, y_pred=y_pred_ppn)\n",
        "f1_ppn =  f1_score(y_true=y_test, y_pred=y_pred_ppn)\n",
        "accuracy_ppn = accuracy_score(y_true=y_test, y_pred=y_pred_ppn)\n",
        "\n",
        "print('Precision: %.3f' % precision_ppn)\n",
        "print('Recall: %.3f' % recall_ppn)\n",
        "print('F1: %.3f' % f1_ppn)\n",
        "print('Accuracy: %.3f' % accuracy_ppn)\n",
        "\n",
        "results.write('test Precision: %.3f' % precision_ppn + '\\n' + 'test Recall: %.3f' % recall_ppn +'\\n'+ 'test F1: %.3f' % f1_ppn + '\\n' + 'test Accuracy: %.3f' % accuracy_ppn + '\\n' )"
      ],
      "metadata": {
        "colab": {
          "base_uri": "https://localhost:8080/"
        },
        "id": "JZWh8dRu1kT9",
        "outputId": "7c76e645-0ccf-4e18-ff27-ba416f968675"
      },
      "execution_count": null,
      "outputs": [
        {
          "output_type": "stream",
          "name": "stdout",
          "text": [
            "Precision: 0.602\n",
            "Recall: 0.554\n",
            "F1: 0.577\n",
            "Accuracy: 0.819\n"
          ]
        },
        {
          "output_type": "execute_result",
          "data": {
            "text/plain": [
              "77"
            ]
          },
          "metadata": {},
          "execution_count": 49
        }
      ]
    },
    {
      "cell_type": "code",
      "source": [
        "learning_curves(ppn,X_train_std,y_train)"
      ],
      "metadata": {
        "colab": {
          "base_uri": "https://localhost:8080/",
          "height": 279
        },
        "id": "rCjpFOEy139L",
        "outputId": "c52c03e2-25b3-4205-ac6b-c8093de5cc60"
      },
      "execution_count": null,
      "outputs": [
        {
          "output_type": "display_data",
          "data": {
            "text/plain": [
              "<Figure size 432x288 with 1 Axes>"
            ],
            "image/png": "[encoded data removed]"
          },
          "metadata": {
            "needs_background": "light"
          }
        }
      ]
    },
    {
      "cell_type": "markdown",
      "source": [
        "For the following model we apply the same procedure applied for the Perceptron."
      ],
      "metadata": {
        "id": "eZicUGJQ2WZz"
      }
    },
    {
      "cell_type": "markdown",
      "source": [
        "### **Logistic Regression**"
      ],
      "metadata": {
        "id": "kup7drwr2Q2y"
      }
    },
    {
      "cell_type": "code",
      "source": [
        "param_range = [0.001, 0.01, 0.1, 1.0, 10.0, 100.0, 1000.0]\n",
        "param_grid = [{'C': param_range, 'solver' : [ 'newton-cg','sag','saga' ]}] # ‘sag’ and ‘saga’ are faster for larger dataset- \n",
        "                        #newton-cholesky’ is a good choice for n_samples >> n_features, especially with one-hot encoded categorical features with rare categories.\n",
        "\n",
        "gs_lr = GridSearchCV(estimator=LogisticRegression(penalty='l2'), param_grid=param_grid, scoring=\"precision\", cv=10, refit =True, n_jobs=-1)\n",
        "gs_lr = gs_lr.fit(X_train_std, y_train)\n",
        "lr = gs_lr.best_estimator_\n",
        "\n",
        "print(gs_lr.best_score_)\n",
        "print(gs_lr.best_params_)\n",
        "\n",
        "results.write('LOGISTIC REGRESSION \\n best_parameter: '+ str(gs_lr.best_params_)+ '\\n')"
      ],
      "metadata": {
        "colab": {
          "base_uri": "https://localhost:8080/"
        },
        "id": "VK7Wr5G92OtE",
        "outputId": "72fab9f8-57ab-4829-a116-43749f69287e"
      },
      "execution_count": null,
      "outputs": [
        {
          "output_type": "stream",
          "name": "stdout",
          "text": [
            "0.749832610250975\n",
            "{'C': 0.001, 'solver': 'newton-cg'}\n"
          ]
        },
        {
          "output_type": "execute_result",
          "data": {
            "text/plain": [
              "74"
            ]
          },
          "metadata": {},
          "execution_count": 51
        }
      ]
    },
    {
      "cell_type": "code",
      "source": [
        "scores = cross_val_score(estimator=lr, X=X_train_std, y=y_train, cv=10, n_jobs=1, scoring='precision')\n",
        "\n",
        "print('Logistic Regression precision: %.3f +/- %.3f' % (np.mean(scores), np.std( scores )))\n",
        "results.write('train precision: %.3f +/- %.3f' % (np.mean(scores), np.std( scores )) +'\\n' )"
      ],
      "metadata": {
        "colab": {
          "base_uri": "https://localhost:8080/"
        },
        "outputId": "f6153d4d-ed16-414d-8689-cc777cfa3a77",
        "id": "VGkuPW873QWO"
      },
      "execution_count": null,
      "outputs": [
        {
          "output_type": "stream",
          "name": "stdout",
          "text": [
            "Logistic Regression precision: 0.750 +/- 0.013\n"
          ]
        },
        {
          "output_type": "execute_result",
          "data": {
            "text/plain": [
              "33"
            ]
          },
          "metadata": {},
          "execution_count": 52
        }
      ]
    },
    {
      "cell_type": "code",
      "source": [
        "#Now that we have found the best combination of parameter we can apply the best model to fit the test dataset\n",
        "\n",
        "y_pred_lr = lr.predict(X_test_std)\n",
        "\n",
        "print('Test precision: %.3f' % precision_score (y_test, y_pred_lr ))\n",
        "print('Misclassified samples: %d' %(y_test != y_pred_lr).sum())\n",
        "\n",
        "results.write('test precision: %.3f' % precision_score (y_test, y_pred_lr ) + '\\n')\n",
        "results.write('Misclassified samples: %d' %(y_test != y_pred_lr).sum() + '\\n')"
      ],
      "metadata": {
        "colab": {
          "base_uri": "https://localhost:8080/"
        },
        "outputId": "88d291e3-50a1-4cc8-9987-fa2665f908db",
        "id": "JTB0hmCH3QWO"
      },
      "execution_count": null,
      "outputs": [
        {
          "output_type": "stream",
          "name": "stdout",
          "text": [
            "Test precision: 0.743\n",
            "Misclassified samples: 3897\n"
          ]
        },
        {
          "output_type": "execute_result",
          "data": {
            "text/plain": [
              "28"
            ]
          },
          "metadata": {},
          "execution_count": 53
        }
      ]
    },
    {
      "cell_type": "code",
      "source": [
        "#confusion matrix\n",
        "confmat = confusion_matrix(y_true=y_test, y_pred=y_pred_lr)\n",
        "\n",
        "#Now let's plot it\n",
        "fig, ax = plt.subplots ( figsize =(2.5, 2.5) )\n",
        "ax.matshow(confmat, cmap=plt.cm.Blues, alpha=0.3)\n",
        "for i in range(confmat.shape[0]) :\n",
        "    for j in range(confmat.shape[1]) :\n",
        "        ax.text (x=j, y=i, s=confmat[i, j ], va='center' , ha='center')\n",
        "plt.xlabel('Predicted label' )\n",
        "plt.ylabel('True label' )\n",
        "plt.show()"
      ],
      "metadata": {
        "colab": {
          "base_uri": "https://localhost:8080/",
          "height": 198
        },
        "outputId": "80d71732-3700-4a4a-a979-f16b4b84b340",
        "id": "pGstb6UI3QWO"
      },
      "execution_count": null,
      "outputs": [
        {
          "output_type": "display_data",
          "data": {
            "text/plain": [
              "<Figure size 180x180 with 1 Axes>"
            ],
            "image/png": "[encoded data removed]"
          },
          "metadata": {
            "needs_background": "light"
          }
        }
      ]
    },
    {
      "cell_type": "code",
      "source": [
        "precision_lr =precision_score (y_true=y_test, y_pred=y_pred_lr)\n",
        "recall_lr =recall_score (y_true=y_test, y_pred=y_pred_lr)\n",
        "f1_lr =  f1_score(y_true=y_test, y_pred=y_pred_lr)\n",
        "accuracy_lr = accuracy_score(y_true=y_test, y_pred=y_pred_lr)\n",
        "\n",
        "print('Precision: %.3f' % precision_lr)\n",
        "print('Recall: %.3f' % recall_lr)\n",
        "print('F1: %.3f' % f1_lr)\n",
        "print('Accuracy: %.3f' % accuracy_lr)\n",
        "\n",
        "results.write('test Precision: %.3f' % precision_lr + '\\n' + 'test Recall: %.3f' % recall_lr +'\\n'+ 'test F1: %.3f' % f1_lr + '\\n' + 'test Accuracy: %.3f' % accuracy_lr + '\\n' )"
      ],
      "metadata": {
        "colab": {
          "base_uri": "https://localhost:8080/"
        },
        "outputId": "991e8a68-6fbc-48ae-fdb2-1bbf4f487c0e",
        "id": "-2xLPRUC3QWP"
      },
      "execution_count": null,
      "outputs": [
        {
          "output_type": "stream",
          "name": "stdout",
          "text": [
            "Precision: 0.743\n",
            "Recall: 0.478\n",
            "F1: 0.582\n",
            "Accuracy: 0.847\n"
          ]
        },
        {
          "output_type": "execute_result",
          "data": {
            "text/plain": [
              "77"
            ]
          },
          "metadata": {},
          "execution_count": 55
        }
      ]
    },
    {
      "cell_type": "code",
      "source": [
        "learning_curves(lr,X_train_std,y_train)"
      ],
      "metadata": {
        "colab": {
          "base_uri": "https://localhost:8080/",
          "height": 279
        },
        "id": "SVeurNuXgcJA",
        "outputId": "e8c0825f-dec8-409e-9c8b-f71db7283881"
      },
      "execution_count": null,
      "outputs": [
        {
          "output_type": "display_data",
          "data": {
            "text/plain": [
              "<Figure size 432x288 with 1 Axes>"
            ],
            "image/png": "[encoded data removed]"
          },
          "metadata": {
            "needs_background": "light"
          }
        }
      ]
    },
    {
      "cell_type": "markdown",
      "source": [
        "### **Random Forest**"
      ],
      "metadata": {
        "id": "Ks7ZLCGM5O56"
      }
    },
    {
      "cell_type": "code",
      "source": [
        "# We apply GridSearch for finding the best combination of parameter.\n",
        "param_grid = [{'n_estimators': [10,50,100], 'max_depth':[10,100,200], 'criterion' : [ 'gini' ]},\n",
        "              {'n_estimators': [10,50,100], 'max_depth':[10,100,200], 'criterion':['entropy']}]\n",
        "\n",
        "gs_rf = GridSearchCV(estimator=RandomForestClassifier(), param_grid=param_grid, scoring='precision', cv=10, refit =True, n_jobs=-1)\n",
        "gs_rf = gs_rf.fit(X_train_std, y_train)\n",
        "rf = gs_rf.best_estimator_\n",
        "\n",
        "print(gs_rf.best_score_)\n",
        "print(gs_rf.best_params_)\n",
        "\n",
        "results.write('RANDOM FOREST \\n best_parameter: '+ str(gs_rf.best_params_)+ '\\n')"
      ],
      "metadata": {
        "colab": {
          "base_uri": "https://localhost:8080/"
        },
        "outputId": "6b781581-8daf-447b-d75e-612981250c7f",
        "id": "6zN3Bsaf5ZH2"
      },
      "execution_count": null,
      "outputs": [
        {
          "output_type": "stream",
          "name": "stdout",
          "text": [
            "0.7793354682105113\n",
            "{'criterion': 'entropy', 'max_depth': 10, 'n_estimators': 100}\n"
          ]
        },
        {
          "output_type": "execute_result",
          "data": {
            "text/plain": [
              "95"
            ]
          },
          "metadata": {},
          "execution_count": 18
        }
      ]
    },
    {
      "cell_type": "code",
      "source": [
        "scores = cross_val_score(estimator=rf, X=X_train_std, y=y_train, cv=10, n_jobs=-1, scoring='precision')\n",
        "\n",
        "print('Random Forest recall: %.3f +/- %.3f' % (np.mean(scores), np.std( scores )))\n",
        "results.write('train precision: %.3f +/- %.3f' % (np.mean(scores), np.std( scores )) +'\\n' )"
      ],
      "metadata": {
        "colab": {
          "base_uri": "https://localhost:8080/"
        },
        "outputId": "d547e2bd-b982-4dd7-8e48-7fa89bf581ab",
        "id": "3vFgNTb65ZH3"
      },
      "execution_count": null,
      "outputs": [
        {
          "output_type": "stream",
          "name": "stdout",
          "text": [
            "Random Forest recall: 0.780 +/- 0.012\n"
          ]
        },
        {
          "output_type": "execute_result",
          "data": {
            "text/plain": [
              "33"
            ]
          },
          "metadata": {},
          "execution_count": 19
        }
      ]
    },
    {
      "cell_type": "code",
      "source": [
        "#Now that we have found the best combination of parameter we can apply the best model to fit the test dataset\n",
        "y_pred_rf = rf.predict(X_test_std)\n",
        "\n",
        "print('Test precision: %.3f' % precision_score (y_test, y_pred_rf ))\n",
        "print('Misclassified samples: %d' %(y_test != y_pred_rf).sum())\n",
        "\n",
        "results.write('test precision: %.3f' % precision_score (y_test, y_pred_rf ) + '\\n')\n",
        "results.write('Misclassified samples: %d' %(y_test != y_pred_rf).sum() + '\\n')"
      ],
      "metadata": {
        "colab": {
          "base_uri": "https://localhost:8080/"
        },
        "outputId": "063699d0-0027-4dff-acb6-f50ff18f08fc",
        "id": "CcxS6nAB5ZH3"
      },
      "execution_count": null,
      "outputs": [
        {
          "output_type": "stream",
          "name": "stdout",
          "text": [
            "Test precision: 0.771\n",
            "Misclassified samples: 3803\n"
          ]
        },
        {
          "output_type": "execute_result",
          "data": {
            "text/plain": [
              "28"
            ]
          },
          "metadata": {},
          "execution_count": 20
        }
      ]
    },
    {
      "cell_type": "code",
      "source": [
        "#confusion matrix\n",
        "confmat = confusion_matrix(y_true=y_test, y_pred=y_pred_rf)\n",
        "\n",
        "#Now let's plot it\n",
        "fig, ax = plt.subplots ( figsize =(2.5, 2.5) )\n",
        "ax.matshow(confmat, cmap=plt.cm.Blues, alpha=0.3)\n",
        "for i in range(confmat.shape[0]) :\n",
        "    for j in range(confmat.shape[1]) :\n",
        "        ax.text (x=j, y=i, s=confmat[i, j ], va='center' , ha='center')\n",
        "plt.xlabel('Predicted label' )\n",
        "plt.ylabel('True label' )\n",
        "plt.show()"
      ],
      "metadata": {
        "colab": {
          "base_uri": "https://localhost:8080/",
          "height": 198
        },
        "outputId": "26ab8b32-bf9a-4165-a4cb-0fdb783bd5b2",
        "id": "oFAvWI6C5ZH3"
      },
      "execution_count": null,
      "outputs": [
        {
          "output_type": "display_data",
          "data": {
            "text/plain": [
              "<Figure size 180x180 with 1 Axes>"
            ],
            "image/png": "[encoded data removed]"
          },
          "metadata": {
            "needs_background": "light"
          }
        }
      ]
    },
    {
      "cell_type": "code",
      "source": [
        "precision_rf =precision_score (y_true=y_test, y_pred=y_pred_rf)\n",
        "recall_rf =recall_score (y_true=y_test, y_pred=y_pred_rf)\n",
        "f1_rf =  f1_score(y_true=y_test, y_pred=y_pred_rf)\n",
        "accuracy_rf = accuracy_score(y_true=y_test, y_pred=y_pred_rf)\n",
        "\n",
        "print('Precision: %.3f' % precision_rf)\n",
        "print('Recall: %.3f' % recall_rf)\n",
        "print('F1: %.3f' % f1_rf)\n",
        "print('Accuracy: %.3f' % accuracy_rf)\n",
        "\n",
        "results.write('test Precision: %.3f' % precision_rf + '\\n' + 'test Recall: %.3f' % recall_rf +'\\n'+ 'test F1: %.3f' % f1_rf + '\\n' + 'test Accuracy: %.3f' % accuracy_rf + '\\n')"
      ],
      "metadata": {
        "colab": {
          "base_uri": "https://localhost:8080/"
        },
        "outputId": "7c5ab7a3-0e8c-4c24-8a92-9ae5f8e4a92c",
        "id": "1L_uLn-25ZH4"
      },
      "execution_count": null,
      "outputs": [
        {
          "output_type": "stream",
          "name": "stdout",
          "text": [
            "Precision: 0.771\n",
            "Recall: 0.469\n",
            "F1: 0.583\n",
            "Accuracy: 0.851\n"
          ]
        },
        {
          "output_type": "execute_result",
          "data": {
            "text/plain": [
              "77"
            ]
          },
          "metadata": {},
          "execution_count": 22
        }
      ]
    },
    {
      "cell_type": "code",
      "source": [
        "learning_curves(rf,X_train_std,y_train)"
      ],
      "metadata": {
        "colab": {
          "base_uri": "https://localhost:8080/",
          "height": 279
        },
        "id": "UUZi5HpbhK78",
        "outputId": "58c3a959-474e-40a5-fb05-55e7214d463e"
      },
      "execution_count": null,
      "outputs": [
        {
          "output_type": "display_data",
          "data": {
            "text/plain": [
              "<Figure size 432x288 with 1 Axes>"
            ],
            "image/png": "[encoded data removed]"
          },
          "metadata": {
            "needs_background": "light"
          }
        }
      ]
    },
    {
      "cell_type": "markdown",
      "source": [
        "### **Neural Network**\n",
        "\n",
        "Eventually, we decide to apply a simple Neural Network"
      ],
      "metadata": {
        "id": "SORtXH_mCDRq"
      }
    },
    {
      "cell_type": "code",
      "source": [
        "from keras.layers.regularization.spatial_dropout3d import Dropout\n",
        "import keras\n",
        "from keras.models import Sequential\n",
        "from keras.layers import Dense\n",
        "\n",
        "# Initialising the NN\n",
        "model = Sequential()\n",
        "\n",
        "# layers\n",
        "\n",
        "model.add(Dense(units = 64,  activation = 'relu', input_dim = X_train_std.shape[1]))\n",
        "model.add(Dense(units = 128,  activation = 'relu'))\n",
        "model.add(Dropout(0.3))\n",
        "model.add(Dense(units = 64,  activation = 'relu'))\n",
        "model.add(Dropout(0.3))\n",
        "model.add(Dense(units = 32,  activation = 'relu'))\n",
        "model.add(Dropout(0.5))\n",
        "model.add(Dense(units = 1, activation = 'sigmoid'))\n",
        "\n",
        "# Compile model\n",
        "model.compile(loss='binary_crossentropy', optimizer='adam', metrics=[keras.metrics.Precision()])\n",
        "# Fit the model\n",
        "history = model.fit(X_train_std, y_train, epochs=50, batch_size=32, \n",
        "                     validation_split=0.2,\n",
        "                    verbose=1)\n",
        "#Use the model to predict the label of the test dataset\n",
        "y_pred_nn = model.predict(X_test_std)>0.5\n",
        "\n",
        "# evaluate the model\n",
        "scores = model.evaluate(X_test_std, y_test, verbose=0)\n",
        "print(\"%s: %.2f%%\" % (model.metrics_names[1], scores[1]*100))\n",
        "\n",
        "results.write(\"NEURAL NETWORK \\n Precision: \" + str( scores[1]*100) + '\\n')"
      ],
      "metadata": {
        "colab": {
          "base_uri": "https://localhost:8080/"
        },
        "id": "gnnJxSelChOC",
        "outputId": "feb0c1ac-e437-47b8-f2bd-7f978d439845"
      },
      "execution_count": null,
      "outputs": [
        {
          "output_type": "stream",
          "name": "stdout",
          "text": [
            "Epoch 1/50\n",
            "2548/2548 [==============================] - 13s 4ms/step - loss: 0.3823 - precision: 0.7150 - val_loss: 0.3484 - val_precision: 0.7507\n",
            "Epoch 2/50\n",
            "2548/2548 [==============================] - 10s 4ms/step - loss: 0.3611 - precision: 0.7457 - val_loss: 0.3477 - val_precision: 0.7405\n",
            "Epoch 3/50\n",
            "2548/2548 [==============================] - 10s 4ms/step - loss: 0.3560 - precision: 0.7532 - val_loss: 0.3440 - val_precision: 0.7496\n",
            "Epoch 4/50\n",
            "2548/2548 [==============================] - 10s 4ms/step - loss: 0.3530 - precision: 0.7534 - val_loss: 0.3417 - val_precision: 0.7782\n",
            "Epoch 5/50\n",
            "2548/2548 [==============================] - 10s 4ms/step - loss: 0.3511 - precision: 0.7568 - val_loss: 0.3407 - val_precision: 0.7596\n",
            "Epoch 6/50\n",
            "2548/2548 [==============================] - 10s 4ms/step - loss: 0.3497 - precision: 0.7605 - val_loss: 0.3426 - val_precision: 0.8165\n",
            "Epoch 7/50\n",
            "2548/2548 [==============================] - 10s 4ms/step - loss: 0.3478 - precision: 0.7628 - val_loss: 0.3373 - val_precision: 0.7860\n",
            "Epoch 8/50\n",
            "2548/2548 [==============================] - 10s 4ms/step - loss: 0.3476 - precision: 0.7596 - val_loss: 0.3382 - val_precision: 0.7928\n",
            "Epoch 9/50\n",
            "2548/2548 [==============================] - 10s 4ms/step - loss: 0.3472 - precision: 0.7584 - val_loss: 0.3408 - val_precision: 0.7970\n",
            "Epoch 10/50\n",
            "2548/2548 [==============================] - 10s 4ms/step - loss: 0.3443 - precision: 0.7644 - val_loss: 0.3382 - val_precision: 0.8103\n",
            "Epoch 11/50\n",
            "2548/2548 [==============================] - 10s 4ms/step - loss: 0.3442 - precision: 0.7611 - val_loss: 0.3373 - val_precision: 0.7871\n",
            "Epoch 12/50\n",
            "2548/2548 [==============================] - 10s 4ms/step - loss: 0.3434 - precision: 0.7592 - val_loss: 0.3352 - val_precision: 0.7755\n",
            "Epoch 13/50\n",
            "2548/2548 [==============================] - 10s 4ms/step - loss: 0.3427 - precision: 0.7594 - val_loss: 0.3349 - val_precision: 0.7501\n",
            "Epoch 14/50\n",
            "2548/2548 [==============================] - 11s 4ms/step - loss: 0.3412 - precision: 0.7610 - val_loss: 0.3361 - val_precision: 0.7853\n",
            "Epoch 15/50\n",
            "2548/2548 [==============================] - 10s 4ms/step - loss: 0.3410 - precision: 0.7628 - val_loss: 0.3403 - val_precision: 0.8026\n",
            "Epoch 16/50\n",
            "2548/2548 [==============================] - 10s 4ms/step - loss: 0.3396 - precision: 0.7614 - val_loss: 0.3369 - val_precision: 0.7461\n",
            "Epoch 17/50\n",
            "2548/2548 [==============================] - 10s 4ms/step - loss: 0.3391 - precision: 0.7600 - val_loss: 0.3353 - val_precision: 0.7765\n",
            "Epoch 18/50\n",
            "2548/2548 [==============================] - 10s 4ms/step - loss: 0.3379 - precision: 0.7645 - val_loss: 0.3343 - val_precision: 0.7397\n",
            "Epoch 19/50\n",
            "2548/2548 [==============================] - 10s 4ms/step - loss: 0.3374 - precision: 0.7580 - val_loss: 0.3340 - val_precision: 0.7525\n",
            "Epoch 20/50\n",
            "2548/2548 [==============================] - 10s 4ms/step - loss: 0.3375 - precision: 0.7581 - val_loss: 0.3335 - val_precision: 0.7661\n",
            "Epoch 21/50\n",
            "2548/2548 [==============================] - 10s 4ms/step - loss: 0.3374 - precision: 0.7524 - val_loss: 0.3336 - val_precision: 0.7614\n",
            "Epoch 22/50\n",
            "2548/2548 [==============================] - 10s 4ms/step - loss: 0.3348 - precision: 0.7577 - val_loss: 0.3372 - val_precision: 0.7776\n",
            "Epoch 23/50\n",
            "2548/2548 [==============================] - 10s 4ms/step - loss: 0.3361 - precision: 0.7570 - val_loss: 0.3338 - val_precision: 0.7706\n",
            "Epoch 24/50\n",
            "2548/2548 [==============================] - 10s 4ms/step - loss: 0.3354 - precision: 0.7588 - val_loss: 0.3345 - val_precision: 0.7336\n",
            "Epoch 25/50\n",
            "2548/2548 [==============================] - 10s 4ms/step - loss: 0.3343 - precision: 0.7551 - val_loss: 0.3365 - val_precision: 0.8026\n",
            "Epoch 26/50\n",
            "2548/2548 [==============================] - 10s 4ms/step - loss: 0.3333 - precision: 0.7591 - val_loss: 0.3361 - val_precision: 0.7822\n",
            "Epoch 27/50\n",
            "2548/2548 [==============================] - 10s 4ms/step - loss: 0.3340 - precision: 0.7578 - val_loss: 0.3363 - val_precision: 0.7734\n",
            "Epoch 28/50\n",
            "2548/2548 [==============================] - 10s 4ms/step - loss: 0.3318 - precision: 0.7598 - val_loss: 0.3366 - val_precision: 0.7167\n",
            "Epoch 29/50\n",
            "2548/2548 [==============================] - 10s 4ms/step - loss: 0.3304 - precision: 0.7547 - val_loss: 0.3354 - val_precision: 0.7684\n",
            "Epoch 30/50\n",
            "2548/2548 [==============================] - 11s 4ms/step - loss: 0.3306 - precision: 0.7591 - val_loss: 0.3383 - val_precision: 0.7126\n",
            "Epoch 31/50\n",
            "2548/2548 [==============================] - 10s 4ms/step - loss: 0.3305 - precision: 0.7571 - val_loss: 0.3369 - val_precision: 0.7508\n",
            "Epoch 32/50\n",
            "2548/2548 [==============================] - 10s 4ms/step - loss: 0.3297 - precision: 0.7558 - val_loss: 0.3359 - val_precision: 0.7489\n",
            "Epoch 33/50\n",
            "2548/2548 [==============================] - 10s 4ms/step - loss: 0.3294 - precision: 0.7568 - val_loss: 0.3374 - val_precision: 0.7176\n",
            "Epoch 34/50\n",
            "2548/2548 [==============================] - 10s 4ms/step - loss: 0.3285 - precision: 0.7573 - val_loss: 0.3370 - val_precision: 0.7316\n",
            "Epoch 35/50\n",
            "2548/2548 [==============================] - 10s 4ms/step - loss: 0.3285 - precision: 0.7557 - val_loss: 0.3382 - val_precision: 0.7742\n",
            "Epoch 36/50\n",
            "2548/2548 [==============================] - 10s 4ms/step - loss: 0.3280 - precision: 0.7575 - val_loss: 0.3358 - val_precision: 0.7479\n",
            "Epoch 37/50\n",
            "2548/2548 [==============================] - 10s 4ms/step - loss: 0.3272 - precision: 0.7542 - val_loss: 0.3429 - val_precision: 0.7830\n",
            "Epoch 38/50\n",
            "2548/2548 [==============================] - 10s 4ms/step - loss: 0.3270 - precision: 0.7576 - val_loss: 0.3369 - val_precision: 0.7456\n",
            "Epoch 39/50\n",
            "2548/2548 [==============================] - 10s 4ms/step - loss: 0.3263 - precision: 0.7531 - val_loss: 0.3347 - val_precision: 0.7472\n",
            "Epoch 40/50\n",
            "2548/2548 [==============================] - 10s 4ms/step - loss: 0.3265 - precision: 0.7522 - val_loss: 0.3400 - val_precision: 0.7410\n",
            "Epoch 41/50\n",
            "2548/2548 [==============================] - 10s 4ms/step - loss: 0.3259 - precision: 0.7549 - val_loss: 0.3428 - val_precision: 0.7509\n",
            "Epoch 42/50\n",
            "2548/2548 [==============================] - 10s 4ms/step - loss: 0.3248 - precision: 0.7577 - val_loss: 0.3396 - val_precision: 0.7721\n",
            "Epoch 43/50\n",
            "2548/2548 [==============================] - 10s 4ms/step - loss: 0.3237 - precision: 0.7574 - val_loss: 0.3411 - val_precision: 0.7757\n",
            "Epoch 44/50\n",
            "2548/2548 [==============================] - 10s 4ms/step - loss: 0.3233 - precision: 0.7571 - val_loss: 0.3412 - val_precision: 0.7636\n",
            "Epoch 45/50\n",
            "2548/2548 [==============================] - 11s 4ms/step - loss: 0.3240 - precision: 0.7593 - val_loss: 0.3423 - val_precision: 0.7700\n",
            "Epoch 46/50\n",
            "2548/2548 [==============================] - 10s 4ms/step - loss: 0.3235 - precision: 0.7591 - val_loss: 0.3396 - val_precision: 0.7309\n",
            "Epoch 47/50\n",
            "2548/2548 [==============================] - 10s 4ms/step - loss: 0.3233 - precision: 0.7602 - val_loss: 0.3408 - val_precision: 0.7475\n",
            "Epoch 48/50\n",
            "2548/2548 [==============================] - 10s 4ms/step - loss: 0.3240 - precision: 0.7622 - val_loss: 0.3399 - val_precision: 0.7669\n",
            "Epoch 49/50\n",
            "2548/2548 [==============================] - 10s 4ms/step - loss: 0.3228 - precision: 0.7575 - val_loss: 0.3392 - val_precision: 0.7349\n",
            "Epoch 50/50\n",
            "2548/2548 [==============================] - 10s 4ms/step - loss: 0.3226 - precision: 0.7590 - val_loss: 0.3417 - val_precision: 0.7221\n",
            "797/797 [==============================] - 1s 1ms/step\n",
            "precision: 71.22%\n"
          ]
        },
        {
          "output_type": "execute_result",
          "data": {
            "text/plain": [
              "46"
            ]
          },
          "metadata": {},
          "execution_count": 24
        }
      ]
    },
    {
      "cell_type": "code",
      "source": [
        "history_df = pd.DataFrame(history.history)\n",
        "\n",
        "plt.plot(history_df.loc[:, ['loss']], \"#BDE2E2\", label='Training loss')\n",
        "plt.plot(history_df.loc[:, ['val_loss']],\"#C2C4E2\", label='Validation loss')\n",
        "plt.title('Training and Validation loss')\n",
        "plt.xlabel('Epochs')\n",
        "plt.ylabel('Loss')\n",
        "plt.legend(loc=\"best\")\n",
        "\n",
        "plt.show()"
      ],
      "metadata": {
        "colab": {
          "base_uri": "https://localhost:8080/",
          "height": 295
        },
        "id": "A1QchCiPbBGQ",
        "outputId": "9194f459-a473-4018-dc18-4a49d21d5bca"
      },
      "execution_count": null,
      "outputs": [
        {
          "output_type": "display_data",
          "data": {
            "text/plain": [
              "<Figure size 432x288 with 1 Axes>"
            ],
            "image/png": "[encoded data removed]"
          },
          "metadata": {
            "needs_background": "light"
          }
        }
      ]
    },
    {
      "cell_type": "code",
      "source": [
        "history_df = pd.DataFrame(history.history)\n",
        "\n",
        "plt.plot(history_df.loc[:, ['precision']], \"#BDE2E2\", label='Training precision')\n",
        "plt.plot(history_df.loc[:, ['val_precision']], \"#C2C4E2\", label='Validation precision')\n",
        "\n",
        "plt.title('Training and Validation precision')\n",
        "plt.xlabel('Epochs')\n",
        "plt.ylabel('Precision')\n",
        "plt.legend()\n",
        "plt.show()"
      ],
      "metadata": {
        "colab": {
          "base_uri": "https://localhost:8080/",
          "height": 295
        },
        "id": "rOn5Yod1czkE",
        "outputId": "b65bca92-bcc8-4fe4-d519-4930aad070c4"
      },
      "execution_count": null,
      "outputs": [
        {
          "output_type": "display_data",
          "data": {
            "text/plain": [
              "<Figure size 432x288 with 1 Axes>"
            ],
            "image/png": "[encoded data removed]"
          },
          "metadata": {
            "needs_background": "light"
          }
        }
      ]
    },
    {
      "cell_type": "code",
      "source": [
        "#confusion matrix\n",
        "confmat = confusion_matrix(y_true=y_test, y_pred=y_pred_nn)\n",
        "\n",
        "#Now let's plot it\n",
        "fig, ax = plt.subplots ( figsize =(2.5, 2.5) )\n",
        "ax.matshow(confmat, cmap=plt.cm.Blues, alpha=0.3)\n",
        "for i in range(confmat.shape[0]) :\n",
        "    for j in range(confmat.shape[1]) :\n",
        "        ax.text (x=j, y=i, s=confmat[i, j ], va='center' , ha='center')\n",
        "plt.xlabel('Predicted label' )\n",
        "plt.ylabel('True label' )\n",
        "plt.show()"
      ],
      "metadata": {
        "colab": {
          "base_uri": "https://localhost:8080/",
          "height": 198
        },
        "id": "bq3hpmoRVwTr",
        "outputId": "5660c05a-c5c9-49f5-a359-bc068c536427"
      },
      "execution_count": null,
      "outputs": [
        {
          "output_type": "display_data",
          "data": {
            "text/plain": [
              "<Figure size 180x180 with 1 Axes>"
            ],
            "image/png": "[encoded data removed]"
          },
          "metadata": {
            "needs_background": "light"
          }
        }
      ]
    },
    {
      "cell_type": "code",
      "source": [
        "misclassified=0\n",
        "for idx,el in (enumerate(y_test)):\n",
        "  if el != int(y_pred_nn[idx]):\n",
        "    misclassified += 1\n",
        "misclassified\n"
      ],
      "metadata": {
        "colab": {
          "base_uri": "https://localhost:8080/"
        },
        "id": "XfglSo0kWHpO",
        "outputId": "2e71577e-ca46-4497-e369-7f097d245357"
      },
      "execution_count": null,
      "outputs": [
        {
          "output_type": "execute_result",
          "data": {
            "text/plain": [
              "3730"
            ]
          },
          "metadata": {},
          "execution_count": 30
        }
      ]
    },
    {
      "cell_type": "code",
      "source": [
        "precision_nn =precision_score (y_true=y_test, y_pred=y_pred_nn)\n",
        "recall_nn =recall_score (y_true=y_test, y_pred=y_pred_nn)\n",
        "f1_nn =  f1_score(y_true=y_test, y_pred=y_pred_nn)\n",
        "accuracy_nn = accuracy_score(y_true=y_test, y_pred=y_pred_nn)\n",
        "\n",
        "misclassified=0\n",
        "for idx,el in (enumerate(y_test)):\n",
        "  if el != int(y_pred_nn[idx]):\n",
        "    misclassified += 1\n",
        "\n",
        "print('Misclassified samples: %d' %misclassified)\n",
        "print('Precision: %.3f' % precision_nn)\n",
        "print('Recall: %.3f' % recall_nn)\n",
        "print('F1: %.3f' % f1_nn)\n",
        "print('Accuracy: %.3f' % accuracy_nn)\n",
        "\n",
        "results.write('Misclassified samples: %d' %misclassified+'\\n'+'test Precision: %.3f' % precision_nn + '\\n' + 'test Recall: %.3f' % recall_nn +'\\n'+ 'test F1: %.3f' % f1_nn + '\\n' + 'test Accuracy: %.3f' % accuracy_nn + '\\n')"
      ],
      "metadata": {
        "colab": {
          "base_uri": "https://localhost:8080/"
        },
        "id": "0VQrOKEYV1mb",
        "outputId": "cc153c40-2be7-4de0-8096-ab8d270e07a8"
      },
      "execution_count": null,
      "outputs": [
        {
          "output_type": "stream",
          "name": "stdout",
          "text": [
            "Misclassified samples: 3730\n",
            "Precision: 0.712\n",
            "Recall: 0.575\n",
            "F1: 0.636\n",
            "Accuracy: 0.854\n"
          ]
        },
        {
          "output_type": "execute_result",
          "data": {
            "text/plain": [
              "105"
            ]
          },
          "metadata": {},
          "execution_count": 31
        }
      ]
    },
    {
      "cell_type": "code",
      "source": [
        "clf_labels = ['Perceptron' , 'Logistic Regression' , 'Random Forest']\n",
        "\n",
        "print('5-fold cross validation :\\n')\n",
        "for clf, label in zip ([ppn,lr,rf], clf_labels ):\n",
        "    scores = cross_val_score ( estimator=clf, X=X_train_std, y=y_train, cv=5, scoring='roc_auc')\n",
        "    print ('ROC AUC: %0.2f (+/- %0.2f) [%s]' % (scores.mean(), scores.std() , label ))"
      ],
      "metadata": {
        "colab": {
          "base_uri": "https://localhost:8080/"
        },
        "id": "LMdnjyRKRe3T",
        "outputId": "f140b05a-7bca-4605-caf4-57972aab0e05"
      },
      "execution_count": null,
      "outputs": [
        {
          "output_type": "stream",
          "name": "stdout",
          "text": [
            "5-fold cross validation :\n",
            "\n",
            "ROC AUC: 0.79 (+/- 0.04) [Perceptron]\n",
            "ROC AUC: 0.86 (+/- 0.00) [Logistic Regression]\n",
            "ROC AUC: 0.87 (+/- 0.00) [Random Forest]\n"
          ]
        }
      ]
    },
    {
      "cell_type": "code",
      "source": [
        "#In the end we compare the methood with the ROC AUC curve\n",
        "all_clf = [lr,rf]\n",
        "colors = ['black', 'orange'   ]\n",
        "linestyles = [':' , '--']\n",
        "clf_labels = ['Logistic Regression' , 'Random Forest']\n",
        "\n",
        "for clf, label , clr , ls in zip( all_clf , clf_labels , colors , linestyles ):\n",
        "    # assuming the label of the positive class is 1\n",
        "    y_pred = clf.fit ( X_train , y_train ).predict_proba (X_test) [:, 1]\n",
        "    fpr , tpr , thresholds = roc_curve( y_true=y_test, y_score=y_pred)\n",
        "    roc_auc = auc(x=fpr, y=tpr)\n",
        "    plt.plot ( fpr , tpr , color=clr, linestyle =ls, label ='%s (auc = %0.2f)' %(label, roc_auc))\n",
        "plt.legend(loc='lower right' )\n",
        "plt.plot([0, 1], [0, 1], linestyle ='--', color='gray', linewidth =2)\n",
        "plt.xlim([-0.1, 1.1])\n",
        "plt.ylim([-0.1, 1.1])\n",
        "plt.grid(alpha=0.5)\n",
        "plt.xlabel('False positive rate (FPR)')\n",
        "plt.ylabel('True positive rate (TPR)')\n",
        "plt.show()\n"
      ],
      "metadata": {
        "colab": {
          "base_uri": "https://localhost:8080/",
          "height": 279
        },
        "id": "INsjGoAHRXjq",
        "outputId": "0808b303-6293-4250-b651-b07e9cf671a0"
      },
      "execution_count": null,
      "outputs": [
        {
          "output_type": "display_data",
          "data": {
            "text/plain": [
              "<Figure size 432x288 with 1 Axes>"
            ],
            "image/png": "[encoded data removed]"
          },
          "metadata": {
            "needs_background": "light"
          }
        }
      ]
    },
    {
      "cell_type": "code",
      "source": [
        "results.close()"
      ],
      "metadata": {
        "id": "f6GJclY7XYV0"
      },
      "execution_count": null,
      "outputs": []
    }
  ]
}