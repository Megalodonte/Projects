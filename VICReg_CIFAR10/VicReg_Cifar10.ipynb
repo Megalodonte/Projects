{
 "cells": [
  {
   "cell_type": "markdown",
   "metadata": {
    "id": "aqErYuuqfjqk",
    "slideshow": {
     "slide_type": "slide"
    }
   },
   "source": [
    " # <font color=\"orange\"> Astroinformatics </font>\n"
   ]
  },
  {
   "cell_type": "markdown",
   "metadata": {
    "slideshow": {
     "slide_type": "fragment"
    }
   },
   "source": [
    "## VICReg (Variance-Invariance-Covariance Regularization) Demonstration\n",
    "\n",
    "<br></br>\n",
    "**By Daniele Petrillo and Daniel Fynn**  \n",
    "**For Professor Longo** \n",
    "\n"
   ]
  },
  {
   "cell_type": "markdown",
   "metadata": {
    "slideshow": {
     "slide_type": "subslide"
    }
   },
   "source": [
    "## Outline \n",
    "- Download Datasets and EDA - Daniele\n",
    "- Resnet Model - Daniel \n",
    "- Vicreg Model - Daniele\n",
    "- Transfer Learning - Daniel\n",
    "    - Experiment One\n",
    "    - Experiment Two\n",
    "- Results - Daniel"
   ]
  },
  {
   "cell_type": "markdown",
   "metadata": {
    "slideshow": {
     "slide_type": "subslide"
    }
   },
   "source": [
    "## Aim\n",
    "\n",
    "- The aim of this project was the study and implentation of the **VICReg** technique for self-supervised learning. \n",
    "- We compare the performance of ResNet and VICReg on 100% of training data.\n",
    "<br></br>\n",
    "- A secondary aim was to impent in a pseudo fashion a self supervised exercise. \n",
    "- We compare VICReg 100%/100% (training / classification) with VICReg 80%/20% "
   ]
  },
  {
   "cell_type": "markdown",
   "metadata": {
    "id": "k3Rjiq1ifjqm",
    "slideshow": {
     "slide_type": "subslide"
    }
   },
   "source": [
    "## Libraries"
   ]
  },
  {
   "cell_type": "code",
   "execution_count": null,
   "metadata": {
    "colab": {
     "base_uri": "https://localhost:8080/"
    },
    "id": "afXec_NhcgUf",
    "outputId": "ae2de678-5b9c-42cc-e06e-ce7fc6a88c04",
    "slideshow": {
     "slide_type": "fragment"
    }
   },
   "outputs": [
    {
     "name": "stdout",
     "output_type": "stream",
     "text": [
      "Mounted at /content/drive\n",
      "cuda\n"
     ]
    }
   ],
   "source": [
    "# for torch implementation\n",
    "import torch\n",
    "import torchvision\n",
    "import torchvision.transforms as transforms\n",
    "import torch.nn.functional as F\n",
    "from torchsummary import summary \n",
    "from torch import Tensor\n",
    "from torch import nn\n",
    "from torchvision.transforms import InterpolationMode\n",
    "\n",
    "# utils for image processing and display\n",
    "import matplotlib.pyplot as plt\n",
    "import numpy as np\n",
    "import time\n",
    "from PIL import ImageOps, ImageFilter\n",
    "\n",
    "# for cloud storage\n",
    "from google.colab import drive\n",
    "drive.mount('/content/drive')\n",
    "\n",
    "# Warnings\n",
    "import warnings\n",
    "warnings.filterwarnings(\"ignore\")\n",
    "warnings.filterwarnings(\"ignore\",  module = \"matplotlib\\..*\" )\n",
    "\n",
    "# device configuration for agnostic programming\n",
    "device = torch.device('cuda' if torch.cuda.is_available() else 'cpu')\n",
    "print(device)"
   ]
  },
  {
   "cell_type": "markdown",
   "metadata": {
    "id": "Zo6krmfEbYQj",
    "slideshow": {
     "slide_type": "slide"
    }
   },
   "source": [
    "# <font color=\"orange\"> Dataset Download and EDA </font>\n",
    "\n"
   ]
  },
  {
   "cell_type": "markdown",
   "metadata": {
    "slideshow": {
     "slide_type": "subslide"
    }
   },
   "source": [
    "## CIFAR10 [1]\n",
    "- Training 50,000 images\n",
    "- Test 10,000 images\n",
    "- Image Size: 32 x 32, colour images \n",
    "- 10 classes \n",
    "    - plane \n",
    "    - car\n",
    "    - bird\n",
    "    - cat \n",
    "    - deer \n",
    "    - dog \n",
    "    - frog \n",
    "    - horse \n",
    "    - ship \n",
    "    - truck\n"
   ]
  },
  {
   "cell_type": "markdown",
   "metadata": {
    "id": "rByoa2pPfjqo",
    "slideshow": {
     "slide_type": "subslide"
    }
   },
   "source": [
    "### Loading and transformation of images\n",
    "\n",
    "- *batchsize* = 128 was chosen as it works operationally and also has a high likelihood of multiple images of each class\n",
    "\n",
    "- Transforms library - performs transformation on the images according to the compose list, and is facilitated simply while creating the object after downloading using `torchvision.datasets.CIFAR10`\n",
    "\n",
    "- The normalizing values are taken from the VICReg article [2]"
   ]
  },
  {
   "cell_type": "code",
   "execution_count": null,
   "metadata": {
    "colab": {
     "base_uri": "https://localhost:8080/"
    },
    "id": "Qznhspx-dx5B",
    "outputId": "2fcf5c33-8af7-4edd-eda0-47679b8f5700",
    "slideshow": {
     "slide_type": "fragment"
    }
   },
   "outputs": [
    {
     "name": "stdout",
     "output_type": "stream",
     "text": [
      "Downloading https://www.cs.toronto.edu/~kriz/cifar-10-python.tar.gz to ./data/cifar-10-python.tar.gz\n"
     ]
    },
    {
     "name": "stderr",
     "output_type": "stream",
     "text": [
      "100%|██████████| 170498071/170498071 [00:13<00:00, 12699670.44it/s]\n"
     ]
    },
    {
     "name": "stdout",
     "output_type": "stream",
     "text": [
      "Extracting ./data/cifar-10-python.tar.gz to ./data\n",
      "Files already downloaded and verified\n"
     ]
    }
   ],
   "source": [
    "batchsize = 128 \n",
    "\n",
    "transform = transforms.Compose( \n",
    "    [transforms.ToTensor(),\n",
    "     transforms.Normalize(mean=[0.485, 0.456, 0.406], std=[0.229, 0.224, 0.225])])\n",
    "\n",
    "trainset = torchvision.datasets.CIFAR10(root='./data', train=True,\n",
    "                                        download=True, transform=transform)\n",
    "trainloader = torch.utils.data.DataLoader(trainset, batch_size=batchsize,\n",
    "                                          shuffle=True, num_workers=2)\n",
    "\n",
    "testset = torchvision.datasets.CIFAR10(root='./data', train=False,\n",
    "                                       download=True, transform=transform)\n",
    "testloader = torch.utils.data.DataLoader(testset, batch_size=batchsize,\n",
    "                                         shuffle=False, num_workers=2)\n",
    "\n",
    "classes = ('plane', 'car', 'bird', 'cat',\n",
    "           'deer', 'dog', 'frog', 'horse', 'ship', 'truck')\n"
   ]
  },
  {
   "cell_type": "code",
   "execution_count": null,
   "metadata": {
    "colab": {
     "base_uri": "https://localhost:8080/",
     "height": 210
    },
    "id": "AhR7dJAfd9qC",
    "outputId": "3c15115a-8d8c-4d61-a5ff-071594f6db65",
    "slideshow": {
     "slide_type": "subslide"
    }
   },
   "outputs": [
    {
     "name": "stdout",
     "output_type": "stream",
     "text": [
      " frog horse plane  bird\n"
     ]
    },
    {
     "data": {
      "image/png": "[encoded data removed]",
      "text/plain": [
       "<Figure size 640x480 with 1 Axes>"
      ]
     },
     "metadata": {},
     "output_type": "display_data"
    }
   ],
   "source": [
    "# function to show an image\n",
    "def imshow(img):\n",
    "    img = img / 2 + 0.5     # unnormalize\n",
    "    npimg = img.numpy()\n",
    "    npimg = npimg/np.amax(npimg)\n",
    "    npimg = np.clip(npimg, 0, 1)\n",
    "    plt.imshow(np.transpose(npimg, (1, 2, 0)))\n",
    "\n",
    "\n",
    "# get some random training images\n",
    "dataiter = iter(trainloader)\n",
    "images, labels = next(dataiter)\n",
    "\n",
    "# show images\n",
    "imshow(torchvision.utils.make_grid(images[:4]))\n",
    "print(' '.join('%5s' % classes[labels[j]] for j in range(4)))\n"
   ]
  },
  {
   "cell_type": "markdown",
   "metadata": {
    "id": "Tbmmm9pphhmg",
    "slideshow": {
     "slide_type": "slide"
    }
   },
   "source": [
    "# <font color=\"orange\"> ResNet Model </font> "
   ]
  },
  {
   "cell_type": "markdown",
   "metadata": {
    "id": "WYLQOitAfjqp",
    "slideshow": {
     "slide_type": "subslide"
    }
   },
   "source": [
    "## Resnet \n",
    "- First developed by K. He, X. Zhang, S. Ren, S. Ren, J. Sun in 2015 for an Imagenet competition\n",
    "- A type of deep **Convolutional Neural Network** (**CNN**) \n",
    "    - In the case of CNN, *convolution* is applied to the input data to filter the information and produce a **feature map**. This filter is also called a **kernel**, or feature detector, and its dimensions can be, for example, 3x3.\n",
    "- Includes an additional residual features, a **skip connection**, to stop loss of information during iterations, which is common in deep learning models. \n",
    "- Also helps with the **Vanishing Gradient** problem.\n",
    "- The skip connection is often used in Transformer models such as **BERT**, **ChatGPT**, etc.\n",
    "\n",
    "<br></br>\n",
    "\n",
    "<center><img src=\"res_buildingblock.png\" alt=\"Drawing\" style=\"width: 300px;\"/>Figure 1: ResNet Building Block with Skip Connection [3]</center>\n",
    "\n",
    "<br></br>\n",
    "\n",
    "<center><img src=\"resnet_cifar.png\" alt=\"Drawing\" style=\"width: 600px;\"/>Figure 2: ResNet Architecture for CIFAR10 [5]</center>\n",
    "\n"
   ]
  },
  {
   "cell_type": "markdown",
   "metadata": {
    "id": "o4snbzFlmW8l",
    "slideshow": {
     "slide_type": "subslide"
    }
   },
   "source": [
    "## Basic Block definition\n"
   ]
  },
  {
   "cell_type": "markdown",
   "metadata": {
    "id": "8qSd8r_7fjqp",
    "slideshow": {
     "slide_type": "fragment"
    }
   },
   "source": [
    "#### The Basic Block [3] of any ResNet model is made up of:\n",
    "- Convolution Layer\n",
    "- Batch Normalisation\n",
    "- RELU activation function \n",
    "- Convolution Layer\n",
    "- Batch Normalisation \n",
    "- Identity (original input) - which is what makes it a recurrent network (by re-adding the identity after the previously listed layers) \n",
    "- Downsample - matches the size of the input with that of the output coming from the layers after convolution (which may change the overall dimension). \n",
    "\n",
    "#### Lambda Layer [7]\n",
    "- a way to change the dimension the input for downsampling"
   ]
  },
  {
   "cell_type": "code",
   "execution_count": null,
   "metadata": {
    "id": "nCDhUFjqkzVB",
    "slideshow": {
     "slide_type": "fragment"
    }
   },
   "outputs": [],
   "source": [
    "# building the basic block that constitutes all ResNet models\n",
    "class BasicBlock(nn.Module):\n",
    "\n",
    "  def __init__ (self, in_channels, out_channels, stride=1, downsample=None):\n",
    "    super(BasicBlock, self).__init__()\n",
    "    self.conv1 = nn.Conv2d(in_channels, out_channels, kernel_size = 3, stride = stride, padding = 1, bias = False)  # batchnorm has a bias value in its layer so it may cancel out \n",
    "    self.bn1 = nn.BatchNorm2d(out_channels)\n",
    "    self.relu = nn.ReLU(inplace=True)\n",
    "    self.conv2 = nn.Conv2d(out_channels, out_channels, kernel_size=3, padding=1, bias=False)\n",
    "    self.bn2 = nn.BatchNorm2d(out_channels)\n",
    "    self.downsample = downsample\n",
    "\n",
    "  def forward(self, x):\n",
    "    identity = x\n",
    "    out = self.conv1(x)\n",
    "    out = self.bn1(out)\n",
    "    out = self.relu(out)\n",
    "    out = self.conv2(out)\n",
    "    out = self.bn2(out)\n",
    "\n",
    "    if self.downsample is not None:\n",
    "      identity = self.downsample(x)\n",
    "\n",
    "    out += identity\n",
    "    out = self.relu(out)\n",
    "    return out\n",
    "\n",
    "# class needed for modifying the forward pass on occasion\n",
    "class LambdaLayer(nn.Module):\n",
    "    def __init__(self, lambd):\n",
    "        super(LambdaLayer, self).__init__()\n",
    "        self.lambd = lambd\n",
    "\n",
    "    def forward(self, x):\n",
    "        return self.lambd(x)\n",
    "    "
   ]
  },
  {
   "cell_type": "markdown",
   "metadata": {
    "id": "lZiN_Q2Tmggb",
    "slideshow": {
     "slide_type": "subslide"
    }
   },
   "source": [
    "## ResNet_CIFAR definition"
   ]
  },
  {
   "cell_type": "markdown",
   "metadata": {
    "id": "bGbD9Einfjqq",
    "slideshow": {
     "slide_type": "fragment"
    }
   },
   "source": [
    "### ResNet_CIFAR Class\n",
    "- `nn.Module` is a parent object, from which **ResNet_CIFAR** will inherit all attributes and methods\n",
    "- The structure of this ResNet variation was taken from [3], which was specific for CIFAR10, as there is issues with creating more channels and running out of dimensions to convolute. \n",
    "- `init()`: initializes the class, passing the required input parameters, in this case the number of layers is 18, classes is 10 to match CIFAR-10, image chanel is 3 for RGB, plus the block class is passed, which make up each layer of the resnet model. \n",
    "- `super()`: is to create an unique instance of the class\n",
    "- `layers` list is the amount of basic blocks in the respective 3 super-layers\n",
    "- `in_channels = 16` - defined as the input channels for the first basic block\n",
    "\n",
    "- `_make_layer()`: creates the layers of the model, by adding blocks into a sequence and ensuring compatible tensor dimensionality \n",
    "\n",
    "- `forward()`: defines the ordering of the creation process, for the passing of the image endcodings, used for PyTorch\n"
   ]
  },
  {
   "cell_type": "code",
   "execution_count": null,
   "metadata": {
    "id": "Wj83LHhIfg2k",
    "slideshow": {
     "slide_type": "fragment"
    }
   },
   "outputs": [],
   "source": [
    "# defining the whole ResNet as a sequence of basic blocks\n",
    "class ResNet_CIFAR(nn.Module):\n",
    "  '''\n",
    "  img_channels: number of channels e.g. 3 for RGB, 1 for BW num layers: the amount of layers for the whole model\n",
    "  num classes: 10 for cifar-10\n",
    "  '''\n",
    "  def __init__(self, block, img_channels=3, num_layers=18, num_classes=10):\n",
    "    super(ResNet_CIFAR, self).__init__()\n",
    "    layers = [2,2,2]                  # architecture of resnet 18 (how blocks are dispersed among layers)\n",
    "    self.in_channels = 16             # named for being the input channels of the first basic block\n",
    "\n",
    "    \"\"\" start of the first (initializing) section of ResNet \"\"\"\n",
    "    self.conv1 = nn.Conv2d(in_channels=img_channels, out_channels=self.in_channels, kernel_size=3, \n",
    "            stride=1, padding=1, bias=False) \n",
    "    self.bn1 = nn.BatchNorm2d(self.in_channels)\n",
    "    self.relu = nn.ReLU(inplace=True)\n",
    "    self.maxpool = nn.MaxPool2d(kernel_size=3, stride=2, padding=1)\n",
    "    \"\"\" end of the first (initializing) section of ResNet \"\"\"\n",
    "\n",
    "    \"\"\" start of the sequence of basic blocks \"\"\"\n",
    "    self.layer1 = self._make_layer(block, 16, layers[0])\n",
    "    self.layer2 = self._make_layer(block, 32, layers[1], stride=2)\n",
    "    self.layer3 = self._make_layer(block, 64, layers[2], stride=2)\n",
    "    #self.layer4 = self._make_layer(block, 128, layers[3], stride=2)           # needed for larger architectures\n",
    "    \"\"\" end of the sequence of basic blocks \"\"\"\n",
    "\n",
    "    \"\"\" start of the classifier head \"\"\"\n",
    "    self.avgpool = nn.AdaptiveAvgPool2d((1, 1))\n",
    "    self.fc = nn.Linear(64, num_classes) # this is removed when used as a backbone\n",
    "    #self.sm = nn.Softmax()              # usually the softmax is included in the loss function\n",
    "    \"\"\" end of the classifier head \"\"\"\n",
    "\n",
    "  # function to make the creation of basic blocks easier\n",
    "  def _make_layer(self, block, out_channels, blocks, stride = 1) -> nn.Sequential:\n",
    "    downsample = None\n",
    "    # when the stride is more than one, the residual input has to be scaled down in order to avoid dimensional incompatibilities\n",
    "    if stride != 1:\n",
    "      downsample = LambdaLayer(lambda x:\n",
    "                        F.pad(x[:, :, ::2, ::2], (0, 0, 0, 0, out_channels//4, out_channels//4), \"constant\", 0))\n",
    "        \n",
    "    layers = []\n",
    "    layers.append(\n",
    "        block(self.in_channels, out_channels, stride, downsample)\n",
    "        )\n",
    "      \n",
    "    self.in_channels = out_channels\n",
    "\n",
    "    for i in range(1, blocks):\n",
    "          layers.append(\n",
    "            block(self.in_channels, out_channels)\n",
    "            )\n",
    "    return nn.Sequential(*layers)\n",
    "\n",
    "\n",
    "  def forward(self, x):\n",
    "    x = self.conv1(x)\n",
    "    x = self.bn1(x)\n",
    "    x = self.relu(x)\n",
    "    #x = self.maxpool(x) not used because CIFAR10 is already low dimensional\n",
    "\n",
    "    x = self.layer1(x)\n",
    "    x = self.layer2(x)\n",
    "    x = self.layer3(x)\n",
    "    #x = self.layer4(x)\n",
    "    \n",
    "    # The spatial dimension of the final layer's feature map should be (7, 7) for all ResNets.\n",
    "    \n",
    "    x = self.avgpool(x)\n",
    "    x = torch.flatten(x, 1)\n",
    "    x = self.fc(x)\n",
    "    #x = self.sm(x) # selfcontained in cross entropy loss function \n",
    "    return x\n"
   ]
  },
  {
   "cell_type": "markdown",
   "metadata": {
    "id": "H-sr1sL6mGZ5",
    "slideshow": {
     "slide_type": "subslide"
    }
   },
   "source": [
    "## Model Structure and Parameters:"
   ]
  },
  {
   "cell_type": "code",
   "execution_count": null,
   "metadata": {
    "colab": {
     "base_uri": "https://localhost:8080/"
    },
    "id": "Hsfc3GtJyTE1",
    "outputId": "7b03049c-c3c7-4831-a860-72f182decb30",
    "slideshow": {
     "slide_type": "fragment"
    }
   },
   "outputs": [
    {
     "name": "stdout",
     "output_type": "stream",
     "text": [
      "ResNet_CIFAR(\n",
      "  (conv1): Conv2d(3, 16, kernel_size=(3, 3), stride=(1, 1), padding=(1, 1), bias=False)\n",
      "  (bn1): BatchNorm2d(16, eps=1e-05, momentum=0.1, affine=True, track_running_stats=True)\n",
      "  (relu): ReLU(inplace=True)\n",
      "  (maxpool): MaxPool2d(kernel_size=3, stride=2, padding=1, dilation=1, ceil_mode=False)\n",
      "  (layer1): Sequential(\n",
      "    (0): BasicBlock(\n",
      "      (conv1): Conv2d(16, 16, kernel_size=(3, 3), stride=(1, 1), padding=(1, 1), bias=False)\n",
      "      (bn1): BatchNorm2d(16, eps=1e-05, momentum=0.1, affine=True, track_running_stats=True)\n",
      "      (relu): ReLU(inplace=True)\n",
      "      (conv2): Conv2d(16, 16, kernel_size=(3, 3), stride=(1, 1), padding=(1, 1), bias=False)\n",
      "      (bn2): BatchNorm2d(16, eps=1e-05, momentum=0.1, affine=True, track_running_stats=True)\n",
      "    )\n",
      "    (1): BasicBlock(\n",
      "      (conv1): Conv2d(16, 16, kernel_size=(3, 3), stride=(1, 1), padding=(1, 1), bias=False)\n",
      "      (bn1): BatchNorm2d(16, eps=1e-05, momentum=0.1, affine=True, track_running_stats=True)\n",
      "      (relu): ReLU(inplace=True)\n",
      "      (conv2): Conv2d(16, 16, kernel_size=(3, 3), stride=(1, 1), padding=(1, 1), bias=False)\n",
      "      (bn2): BatchNorm2d(16, eps=1e-05, momentum=0.1, affine=True, track_running_stats=True)\n",
      "    )\n",
      "  )\n",
      "  (layer2): Sequential(\n",
      "    (0): BasicBlock(\n",
      "      (conv1): Conv2d(16, 32, kernel_size=(3, 3), stride=(2, 2), padding=(1, 1), bias=False)\n",
      "      (bn1): BatchNorm2d(32, eps=1e-05, momentum=0.1, affine=True, track_running_stats=True)\n",
      "      (relu): ReLU(inplace=True)\n",
      "      (conv2): Conv2d(32, 32, kernel_size=(3, 3), stride=(1, 1), padding=(1, 1), bias=False)\n",
      "      (bn2): BatchNorm2d(32, eps=1e-05, momentum=0.1, affine=True, track_running_stats=True)\n",
      "      (downsample): LambdaLayer()\n",
      "    )\n",
      "    (1): BasicBlock(\n",
      "      (conv1): Conv2d(32, 32, kernel_size=(3, 3), stride=(1, 1), padding=(1, 1), bias=False)\n",
      "      (bn1): BatchNorm2d(32, eps=1e-05, momentum=0.1, affine=True, track_running_stats=True)\n",
      "      (relu): ReLU(inplace=True)\n",
      "      (conv2): Conv2d(32, 32, kernel_size=(3, 3), stride=(1, 1), padding=(1, 1), bias=False)\n",
      "      (bn2): BatchNorm2d(32, eps=1e-05, momentum=0.1, affine=True, track_running_stats=True)\n",
      "    )\n",
      "  )\n",
      "  (layer3): Sequential(\n",
      "    (0): BasicBlock(\n",
      "      (conv1): Conv2d(32, 64, kernel_size=(3, 3), stride=(2, 2), padding=(1, 1), bias=False)\n",
      "      (bn1): BatchNorm2d(64, eps=1e-05, momentum=0.1, affine=True, track_running_stats=True)\n",
      "      (relu): ReLU(inplace=True)\n",
      "      (conv2): Conv2d(64, 64, kernel_size=(3, 3), stride=(1, 1), padding=(1, 1), bias=False)\n",
      "      (bn2): BatchNorm2d(64, eps=1e-05, momentum=0.1, affine=True, track_running_stats=True)\n",
      "      (downsample): LambdaLayer()\n",
      "    )\n",
      "    (1): BasicBlock(\n",
      "      (conv1): Conv2d(64, 64, kernel_size=(3, 3), stride=(1, 1), padding=(1, 1), bias=False)\n",
      "      (bn1): BatchNorm2d(64, eps=1e-05, momentum=0.1, affine=True, track_running_stats=True)\n",
      "      (relu): ReLU(inplace=True)\n",
      "      (conv2): Conv2d(64, 64, kernel_size=(3, 3), stride=(1, 1), padding=(1, 1), bias=False)\n",
      "      (bn2): BatchNorm2d(64, eps=1e-05, momentum=0.1, affine=True, track_running_stats=True)\n",
      "    )\n",
      "  )\n",
      "  (avgpool): AdaptiveAvgPool2d(output_size=(1, 1))\n",
      "  (fc): Linear(in_features=64, out_features=10, bias=True)\n",
      ")\n"
     ]
    }
   ],
   "source": [
    "#instantiation of the ResNet_CIFAR class\n",
    "model = ResNet_CIFAR(block=BasicBlock, img_channels=3, num_layers=18, num_classes=10)\n",
    "\n",
    "# print of the architecture summary\n",
    "print(model)\n",
    "#summary(model, input_size = (3,32,32))\n"
   ]
  },
  {
   "cell_type": "markdown",
   "metadata": {
    "id": "4BrAXc1L5JBv",
    "slideshow": {
     "slide_type": "subslide"
    }
   },
   "source": [
    "## ResNet standard training\n",
    "\n",
    "### Parameters \n",
    "- `num_epochs = 80` - fixed for all following experiments\n",
    "- `learning_rate = 0.001`  - fixed for all following experiments\n",
    "- `torch.manual_seed(5)`  - for reproduciability "
   ]
  },
  {
   "cell_type": "code",
   "execution_count": null,
   "metadata": {
    "id": "d4BZhzOgYwAo",
    "slideshow": {
     "slide_type": "fragment"
    }
   },
   "outputs": [],
   "source": [
    "num_epochs = 80        # chosen from origianl RESNET article [3]\n",
    "learning_rate = 0.001  \n",
    "torch.manual_seed(5)  # reproduciability \n",
    "   \n",
    "model = ResNet_CIFAR(block=BasicBlock, img_channels=3, num_layers=18, num_classes=10).to(device) # moves the class to device (gpu)\n",
    "loss = nn.CrossEntropyLoss()    # standard loss function for multiclass datasets\n",
    "optimizer = torch.optim.Adam(model.parameters(), lr=learning_rate) # Adam is the standard optimizer \n",
    "       "
   ]
  },
  {
   "cell_type": "code",
   "execution_count": null,
   "metadata": {
    "colab": {
     "base_uri": "https://localhost:8080/"
    },
    "id": "IwMxkHUMKjZ_",
    "outputId": "6ab23baa-e667-4071-de24-07066a7d8176",
    "slideshow": {
     "slide_type": "fragment"
    }
   },
   "outputs": [
    {
     "name": "stdout",
     "output_type": "stream",
     "text": [
      "Time to train model: 23.14 minutes\n"
     ]
    }
   ],
   "source": [
    "start = time.time()\n",
    "\n",
    "losses=[]\n",
    "\n",
    "model.train() # pytorch functionality\n",
    "\n",
    "for epoch in range(num_epochs):\n",
    "  \n",
    "  loss_vals = []\n",
    "  \n",
    "  for i, (images, labels) in enumerate(trainloader):\n",
    "    images = images.to(device)\n",
    "    labels = labels.to(device)\n",
    "\n",
    "    # Forward pass\n",
    "    outputs = model(images)\n",
    "    loss_val = loss(outputs, labels)\n",
    "\n",
    "    # Backward and optimize\n",
    "    optimizer.zero_grad()      # aggregates the results of different epochs\n",
    "    loss_val.backward()\n",
    "    optimizer.step()\n",
    "\n",
    "    loss_vals.append(loss_val.item())\n",
    "\n",
    "  #print(\"Epoch\", epoch, \"loss:\", sum(loss_vals)/len(trainloader))\n",
    "  losses.append(sum(loss_vals)/len(trainloader))\n",
    "\n",
    "print(\"Time to train model:\", round((time.time() - start) / 60,2), \"minutes\" )\n",
    "    "
   ]
  },
  {
   "cell_type": "code",
   "execution_count": null,
   "metadata": {
    "colab": {
     "base_uri": "https://localhost:8080/",
     "height": 472
    },
    "id": "GW-ylweZyQjC",
    "outputId": "cac9b393-72d5-4c07-bdb3-33781514d71a",
    "slideshow": {
     "slide_type": "subslide"
    }
   },
   "outputs": [
    {
     "data": {
      "image/png": "[encoded data removed]",
      "text/plain": [
       "<Figure size 640x480 with 1 Axes>"
      ]
     },
     "metadata": {},
     "output_type": "display_data"
    }
   ],
   "source": [
    "# plots average loss over time\n",
    "plt.plot(range(num_epochs), losses )\n",
    "plt.ylabel(\"Epochs\")\n",
    "plt.xlabel(\"Loss\")\n",
    "plt.title(\"Loss vs. Epochs for Resnet\")\n",
    "plt.show()\n"
   ]
  },
  {
   "cell_type": "markdown",
   "metadata": {
    "id": "GWjJsf7OnY7N",
    "slideshow": {
     "slide_type": "subslide"
    }
   },
   "source": [
    "### Training Set Accuracy"
   ]
  },
  {
   "cell_type": "code",
   "execution_count": null,
   "metadata": {
    "colab": {
     "base_uri": "https://localhost:8080/"
    },
    "id": "MSxOQTovNZ8D",
    "outputId": "e7838c9c-9bca-44cd-b5f9-e4bdf298b5c6",
    "slideshow": {
     "slide_type": "fragment"
    }
   },
   "outputs": [
    {
     "name": "stdout",
     "output_type": "stream",
     "text": [
      "Accuracy of the model on the train images: 99.616 %\n"
     ]
    }
   ],
   "source": [
    "# Test the model\n",
    "model.eval()\n",
    "with torch.no_grad():\n",
    "    correct = 0\n",
    "    total = 0\n",
    "    for images, labels in trainloader:\n",
    "        images = images.to(device)\n",
    "        labels = labels.to(device)\n",
    "        outputs = model(images)\n",
    "        _, predicted = torch.max(outputs.data, 1)\n",
    "        total += labels.size(0)\n",
    "        correct += (predicted == labels).sum().item()\n",
    "\n",
    "    print('Accuracy of the model on the train images: {} %'.format(100 * correct / total))\n",
    "    "
   ]
  },
  {
   "cell_type": "markdown",
   "metadata": {
    "id": "Qxd1XX_7ng-R",
    "slideshow": {
     "slide_type": "subslide"
    }
   },
   "source": [
    "### Test Set Accuracy"
   ]
  },
  {
   "cell_type": "code",
   "execution_count": null,
   "metadata": {
    "colab": {
     "base_uri": "https://localhost:8080/"
    },
    "id": "5LWYJOVTYd6a",
    "outputId": "63b8d93d-f887-4e9e-a54d-fb5d4dbcdd42",
    "slideshow": {
     "slide_type": "fragment"
    }
   },
   "outputs": [
    {
     "name": "stdout",
     "output_type": "stream",
     "text": [
      "Accuracy of the model on the test images: 80.57 %\n"
     ]
    }
   ],
   "source": [
    "# Test the model\n",
    "model.eval()\n",
    "with torch.no_grad():\n",
    "    correct = 0\n",
    "    total = 0\n",
    "    for images, labels in testloader:\n",
    "        images = images.to(device)\n",
    "        labels = labels.to(device)\n",
    "        outputs = model(images)\n",
    "        #print(outputs)\n",
    "        _, predicted = torch.max(outputs.data, 1)\n",
    "        #print(predicted)\n",
    "        total += labels.size(0)\n",
    "        correct += (predicted == labels).sum().item()\n",
    "\n",
    "    print('Accuracy of the model on the test images: {} %'.format(100 * correct / total))\n",
    "    "
   ]
  },
  {
   "cell_type": "markdown",
   "metadata": {
    "id": "ncm1ekKY18cx",
    "slideshow": {
     "slide_type": "slide"
    }
   },
   "source": [
    "# <font color=\"orange\"> VicReg </font>"
   ]
  },
  {
   "cell_type": "markdown",
   "metadata": {
    "id": "qq9vcl2Qfjqt",
    "slideshow": {
     "slide_type": "subslide"
    }
   },
   "source": [
    "## VICReg Background\n",
    "\n",
    "- **Self-Supervised Learning**\n",
    "    - Most recent self-supervised methods aim to learn a substantial image representations by either producing global features (with invariance properties) or local features, respectively better suited for image classification and segmentation.\n",
    "    - Almost all approaches rely on *joint embedding* architectures and a loss function that forces the learned features to be invariant to differences (often artificial) between two views of the same picture.\n",
    "    - Something every method of this type suffers is the so called *collapsing problem*, that happens when the two architectures ignore the inputs and give identical constant output vectors.\n",
    "    - Examples of self-supevised learning models:\n",
    "        - VICReg\n",
    "        - SimCLR\n",
    "        - MoCoV2\n",
    "        - BYOL\n",
    "        - SimSiam\n",
    "<br></br>\n",
    "- **VICReg**\n",
    "    - Similar to the above listed self supervised models, it utilises a siamese architecture. A **siamese architecture** simply has two parralel streams that take similar inputs and create similar embeddings. One of the main differences from the other techniques is the handling of these similarities and differences between the siamese networks. \n",
    "    - The main advantage of the VICReg approach is that it allows for not only different weights to be used on the two siamese networks, but also a whole different architecture, which can be useful for multi-modal approaches.  \n",
    "\n",
    "\n",
    "\n"
   ]
  },
  {
   "cell_type": "markdown",
   "metadata": {
    "slideshow": {
     "slide_type": "subslide"
    }
   },
   "source": [
    "## VICReg architecture\n",
    "\n",
    "- Originally introduced [2] as a self supervised method for training siamese architectures based on the principle of preserving the information content of the embeddings through the use of a particular loss function.\n",
    "\n",
    "- As visualized in Figure 3 below, the iter of a batch $I$ of $n$ input images is the following:\n",
    "\n",
    "   1) Two batches of different views $X$ and $X'$ are produced using transformations sampled from a distribution $T$\n",
    "   2) The two batches are encoded into representations $Y$ and $Y'$ through the use of a backbone (in our case a ResNet w/out the classifier head)\n",
    "   3) The representations are then fed to an expander which creates embeddings $Z$ and $Z'$ of dimension $d$\n",
    "   4) The total loss is calculated starting from these two batches of embeddings\n",
    "   5) Finally the loss is backpropagated through some optimizer\n",
    "\n",
    "<center>\n",
    "    <img src=\"vicreg.png\" alt=\"Drawing\" style=\"width: 900px;\"/>Figure 3: VICReg Architecture [2]</center>\n"
   ]
  },
  {
   "cell_type": "markdown",
   "metadata": {
    "slideshow": {
     "slide_type": "subslide"
    }
   },
   "source": [
    "## Loss definition\n",
    "\n",
    "- Composed of three main terms, each responsible for a different type of regularization:\n",
    "   1) **Variance**: preserves the variance of the embeddings, forcing the embedding vectors between a batch to be different (useful to fight the collapsing problem) \n",
    "   <br></br>\n",
    "   $$\n",
    "   v(Z) = {1\\over d} \\sum_{j=1}^d max(0, \\gamma - S(z^j,\\epsilon))\n",
    "   $$\n",
    "   <br></br>\n",
    "   where $\\gamma$ is a constant target value for the standard deviation, and $S$ is the regularized standard deviation:\n",
    "   <br></br>\n",
    "   $$\n",
    "   S(x,\\epsilon) = \\sqrt{Var(x) + \\epsilon}\n",
    "   $$\n",
    "   <br></br>\n",
    "   2) **Invariance**: mathematically, it's the mean square distance between the embedding vectors, it grants the similarity of the two embeddings\n",
    "   <br></br>\n",
    "   $$\n",
    "   s(Z,Z') = {1\\over n} \\sum_{i=1}^n \\| z_i - z'_i \\|^2_2\n",
    "   $$\n",
    "   <br></br>\n",
    "   3) **Covariance**: decorrelates the different features of the embeddings\n",
    "   <br></br>\n",
    "   $$\n",
    "   c(Z) = {1\\over d} \\sum_{i\\neq j}[C(Z)]^2_{i,j}\n",
    "   $$\n",
    "   <br></br>\n",
    "   where we define the covariance matrix $C(Z)$ as:\n",
    "   <br></br>\n",
    "   $$\n",
    "   C(Z) = {1 \\over n-1} \\sum_{i=1}^n (z_i - \\hat{z})(z_i - \\hat{z})^T, \\quad with \\quad   \\hat{z} = {1 \\over n} \\sum_{i=1}^n z_i\n",
    "   $$\n",
    "\n",
    "- The overall loss is a weighted average of the three terms:\n",
    "<br></br>\n",
    "$$\n",
    "l(Z,Z') = \\lambda s(Z,Z') + \\mu [v(Z) + v(Z')] + \\nu [c(Z) + c(Z')]\n",
    "$$\n"
   ]
  },
  {
   "cell_type": "markdown",
   "metadata": {
    "slideshow": {
     "slide_type": "subslide"
    }
   },
   "source": [
    "## Transforms definition"
   ]
  },
  {
   "cell_type": "markdown",
   "metadata": {
    "id": "Sb6Dv_GHfjqt",
    "slideshow": {
     "slide_type": "fragment"
    }
   },
   "source": [
    "### Image Transformations\n",
    "- These transormations are taken from the VicReg Paper [3]:\n",
    "    <br></br>\n",
    "    - `RandomResizeCrop` - performs a random resizing of the image and then crops it, we have fixed the parameters beteen 0.4 and 0.9 for resizing, as CIFAR10 images are not very detailed. When using imagenet, it is possible to take a wider range of values. The `interplationModel` was taken from the github for VicReg[4]\n",
    "    <br></br>\n",
    "    - `Random horizontal flip` - takes a probabilty parameter that determines whether the image will flip horizontally \n",
    "    <br></br>\n",
    "    - `Random apply` - applies randomly the `ColorJitter` using the parameters as outlined in the referenced article (80% of the time)\n",
    "    <br></br>\n",
    "    - `Random grayscale` - applies grayscale to the image at probability 20%\n",
    "    <br></br>\n",
    "    - `Gaussian blur` was used in the article but was ommitted for us, because CIFAR10 is quite blurry already. \n",
    "    <br></br>\n",
    "    - `Solarization` - inverts the images around a threshold, different probabilities were used for the different views as this was done in the github for VicReg [4]\n",
    "    <br></br>\n",
    "    - The classes for gaussian blur and solarization are just to apply probability to applying the methods. \n",
    "\n"
   ]
  },
  {
   "cell_type": "code",
   "execution_count": null,
   "metadata": {
    "id": "k4E4QM6Z2OSq",
    "slideshow": {
     "slide_type": "subslide"
    }
   },
   "outputs": [],
   "source": [
    "class TrainTransform(object):\n",
    "  def __init__(self):\n",
    "    \n",
    "    self.transform = transforms.Compose(\n",
    "        [transforms.RandomResizedCrop(32,scale=(0.4,0.9), interpolation=InterpolationMode.BICUBIC),\n",
    "         transforms.RandomHorizontalFlip(p=0.5),\n",
    "         transforms.RandomApply([transforms.ColorJitter(brightness=0.4, contrast=0.4, saturation=0.2, hue=0.1)],p=0.8,),\n",
    "         transforms.RandomGrayscale(p=0.2),\n",
    "         #GaussianBlur(p=1.0),\n",
    "         Solarization(p=0.0),\n",
    "         transforms.ToTensor(),\n",
    "         transforms.Normalize(mean=[0.485, 0.456, 0.406], std=[0.229, 0.224, 0.225])])\n",
    "    \n",
    "    self.transform_prime = transforms.Compose(\n",
    "        [transforms.RandomResizedCrop(32,scale=(0.4,0.9), interpolation=InterpolationMode.BICUBIC),\n",
    "         transforms.RandomHorizontalFlip(p=0.5),\n",
    "         transforms.RandomApply([transforms.ColorJitter(brightness=0.4, contrast=0.4, saturation=0.2, hue=0.1)],p=0.8,),\n",
    "         transforms.RandomGrayscale(p=0.2),\n",
    "         #GaussianBlur(p=1.0),\n",
    "         Solarization(p=0.2),\n",
    "         transforms.ToTensor(),\n",
    "         transforms.Normalize(mean=[0.485, 0.456, 0.406], std=[0.229, 0.224, 0.225])])\n",
    "\n",
    "  def __call__(self,sample):\n",
    "    x1 = self.transform(sample)\n",
    "    x2 = self.transform_prime(sample)\n",
    "    return x1, x2\n",
    "\n",
    "\n",
    "class GaussianBlur(object):\n",
    "    def __init__(self, p):\n",
    "        self.p = p\n",
    "\n",
    "    def __call__(self, img):\n",
    "        if np.random.rand() < self.p:\n",
    "            sigma = np.random.rand() * 1.9 + 0.1\n",
    "            return img.filter(ImageFilter.GaussianBlur(sigma))\n",
    "        else:\n",
    "            return img\n",
    "\n",
    "        \n",
    "class Solarization(object):\n",
    "    def __init__(self, p):\n",
    "        self.p = p\n",
    "\n",
    "    def __call__(self, img):\n",
    "        if np.random.rand() < self.p:\n",
    "            return ImageOps.solarize(img)\n",
    "        else:\n",
    "            return img"
   ]
  },
  {
   "cell_type": "markdown",
   "metadata": {
    "id": "n0YExyQosmD5",
    "slideshow": {
     "slide_type": "subslide"
    }
   },
   "source": [
    "## Dataset download and transform"
   ]
  },
  {
   "cell_type": "code",
   "execution_count": null,
   "metadata": {
    "colab": {
     "base_uri": "https://localhost:8080/"
    },
    "id": "qb9Hi_lsCoCW",
    "outputId": "7ba0dcb0-db0c-4afe-8df8-abaa9821e2b3",
    "slideshow": {
     "slide_type": "fragment"
    }
   },
   "outputs": [
    {
     "name": "stdout",
     "output_type": "stream",
     "text": [
      "Files already downloaded and verified\n",
      "Files already downloaded and verified\n"
     ]
    }
   ],
   "source": [
    "batchsize = 128\n",
    "transform = TrainTransform()\n",
    " \n",
    "trainset_siamese = torchvision.datasets.CIFAR10(root='./data', train=True,\n",
    "                                        download=True, transform=transform)\n",
    "\n",
    "trainloader_siamese = torch.utils.data.DataLoader(trainset_siamese, batch_size=batchsize,\n",
    "                                        shuffle=True, num_workers=2)\n",
    "\n",
    "testset_siamese = torchvision.datasets.CIFAR10(root='./data', train=False,\n",
    "                                       download=True, transform=transform)\n",
    "\n",
    "testloader_siamese = torch.utils.data.DataLoader(testset_siamese, batch_size=batchsize,\n",
    "                                       shuffle=False, num_workers=2)\n",
    "\n",
    "classes = ('plane', 'car', 'bird', 'cat',\n",
    "           'deer', 'dog', 'frog', 'horse', 'ship', 'truck')\n"
   ]
  },
  {
   "cell_type": "code",
   "execution_count": null,
   "metadata": {
    "colab": {
     "base_uri": "https://localhost:8080/",
     "height": 211
    },
    "id": "HgqJhiEuKOHH",
    "outputId": "bd4cc659-e567-4b25-bc08-4dd060116700",
    "slideshow": {
     "slide_type": "subslide"
    }
   },
   "outputs": [
    {
     "name": "stdout",
     "output_type": "stream",
     "text": [
      " frog   car  bird plane\n"
     ]
    },
    {
     "data": {
      "image/png": "[encoded data removed]",
      "text/plain": [
       "<Figure size 640x480 with 1 Axes>"
      ]
     },
     "metadata": {},
     "output_type": "display_data"
    }
   ],
   "source": [
    "# functions to show an image\n",
    "dataiter = iter(trainloader_siamese)\n",
    "images, labels = next(dataiter)\n",
    "\n",
    "# show first crop of the input image + random transform\n",
    "imshow(torchvision.utils.make_grid(images[0][0:4]))\n",
    "print(' '.join('%5s' % classes[labels[j]] for j in range(4)))\n"
   ]
  },
  {
   "cell_type": "code",
   "execution_count": null,
   "metadata": {
    "colab": {
     "base_uri": "https://localhost:8080/",
     "height": 211
    },
    "id": "3y4-GkExKyIm",
    "outputId": "e2078c0c-7001-4904-87bd-c71003685c5d",
    "slideshow": {
     "slide_type": "fragment"
    }
   },
   "outputs": [
    {
     "name": "stdout",
     "output_type": "stream",
     "text": [
      " frog   car  bird plane\n"
     ]
    },
    {
     "data": {
      "image/png": "[encoded data removed]",
      "text/plain": [
       "<Figure size 640x480 with 1 Axes>"
      ]
     },
     "metadata": {},
     "output_type": "display_data"
    }
   ],
   "source": [
    "# show second crop of the input image + random transform\n",
    "imshow(torchvision.utils.make_grid(images[1][0:4]))\n",
    "print(' '.join('%5s' % classes[labels[j]] for j in range(4)))\n"
   ]
  },
  {
   "cell_type": "markdown",
   "metadata": {
    "id": "m4eVTJr-tKrb",
    "slideshow": {
     "slide_type": "subslide"
    }
   },
   "source": [
    "## VicReg definition"
   ]
  },
  {
   "cell_type": "markdown",
   "metadata": {
    "id": "hdOjDikAz3Vv",
    "slideshow": {
     "slide_type": "fragment"
    }
   },
   "source": [
    "### Some Utility Functions"
   ]
  },
  {
   "cell_type": "code",
   "execution_count": null,
   "metadata": {
    "id": "_xoeLDx3-eTJ",
    "slideshow": {
     "slide_type": "fragment"
    }
   },
   "outputs": [],
   "source": [
    "# projector builder function for VicReg global loss\n",
    "def Projector(embedding, dimension):\n",
    "  return nn.Sequential(\n",
    "      nn.Linear(embedding,dimension), \n",
    "      nn.BatchNorm1d(dimension),\n",
    "      nn.ReLU(True),\n",
    "      nn.Linear(dimension,dimension), \n",
    "      nn.BatchNorm1d(dimension),\n",
    "      nn.ReLU(True),\n",
    "      nn.Linear(dimension,dimension, bias = False) # bias false as there is a quasi batch norm during the loss calculation  \n",
    "  )\n",
    "\n",
    "# useful later during loss calculation\n",
    "def off_diagonal(x):\n",
    "    \"\"\"gets rid of the diagonal elements\"\"\"\n",
    "    n, m = x.shape\n",
    "    assert n == m\n",
    "    return x.flatten()[:-1].view(n - 1, n + 1)[:, 1:].flatten()\n"
   ]
  },
  {
   "cell_type": "markdown",
   "metadata": {
    "id": "zrxoyT120uoy",
    "slideshow": {
     "slide_type": "subslide"
    }
   },
   "source": [
    "### VicReg class"
   ]
  },
  {
   "cell_type": "markdown",
   "metadata": {
    "id": "GBEHI6xCfjqv",
    "slideshow": {
     "slide_type": "fragment"
    }
   },
   "source": [
    "### VICReg Class\n",
    "\n",
    "- `init()` just passes the batchsize paramater\n",
    "- `super()` - again to create a unique instance of the class\n",
    "- `self.embedding` - this is the final output dimension from the resnet model, so the inputs dimension to the projector\n",
    "- `self.num_features` - amount of features projected to by the projector (aslo known as *expander*) [2,4] (4x embedding layer)\n",
    "- `self.backbone.fc = nn.Identity()` changes the Resnet_CIFAR fully connected layer to identity to disable it during self supervised training. \n",
    "- `forward()` - naming important when using PyTorch, passes the image to the projector/expander and then calculates the loss funcation\n",
    "- $\\lambda$, $\\mu$, $\\nu$ = $[25,25,1]$ (from references [2],[4])\n"
   ]
  },
  {
   "cell_type": "code",
   "execution_count": null,
   "metadata": {
    "id": "7tSX6A8qIbPN",
    "slideshow": {
     "slide_type": "fragment"
    }
   },
   "outputs": [],
   "source": [
    "class VICReg(nn.Module):\n",
    "  \n",
    "  def __init__(self,batchsize):\n",
    "    super(VICReg, self).__init__()\n",
    "    self.batchsize = batchsize\n",
    "    self.embedding = 64\n",
    "    self.num_features = 256\n",
    "    self.backbone = ResNet_CIFAR(block=BasicBlock, img_channels=3, num_layers=18, num_classes=10)\n",
    "    self.backbone.fc = nn.Identity() # at this stage we are doing unsupervised learning, so we don't need the classifier head\n",
    "    self.projector = Projector(self.embedding, self.num_features)\n",
    "\n",
    "  def forward(self, x, y):\n",
    "    x = self.projector(self.backbone(x))  #View 1\n",
    "    y = self.projector(self.backbone(y))  #View 2 \n",
    "\n",
    "    repr_loss = F.mse_loss(x,y)\n",
    "    \n",
    "    x = x - x.mean(dim=0)\n",
    "    y = y - y.mean(dim=0)\n",
    "\n",
    "    std_x = torch.sqrt(x.var(dim=0) + 0.0001) \n",
    "    std_y = torch.sqrt(y.var(dim=0) + 0.0001)\n",
    "    # we want the std_z>1, which implies that there is different embedding to the different images, \n",
    "    # if not there is contribution to the loss (which we want to minimise)\n",
    "    std_loss = torch.mean(F.relu(1 - std_x)) / 2 + torch.mean(F.relu(1 - std_y)) / 2\n",
    "\n",
    "    cov_x = (torch.matmul(x.T, x)) / (self.batchsize - 1) # shape(embedding, embedding)\n",
    "    cov_y = (torch.matmul(y.T, y)) / (self.batchsize - 1)\n",
    "    # getting the off diagonal values and adding to the covariance part of the loss fn\n",
    "    cov_loss = off_diagonal(cov_x).pow_(2).sum().div(self.num_features) \n",
    "    +off_diagonal(cov_y).pow_(2).sum().div(self.num_features)\n",
    "\n",
    "    loss = (25 * repr_loss + 25 * std_loss+  1* cov_loss) # coefficient values taken from vicreg library[2,4]\n",
    "    return loss\n"
   ]
  },
  {
   "cell_type": "markdown",
   "metadata": {
    "id": "NXNrRpkaY8Xb",
    "slideshow": {
     "slide_type": "slide"
    }
   },
   "source": [
    "# <font color=\"orange\">Transfer Learning </font>"
   ]
  },
  {
   "cell_type": "markdown",
   "metadata": {
    "id": "dO6tYeTafjq3",
    "slideshow": {
     "slide_type": "subslide"
    }
   },
   "source": [
    "## Transfer Learning \n",
    "- It's a problem in Machine Learning that aims to apply already trained models to new (often similar) tasks to those for which they were originally instructed\n",
    "- First thought in 1976 by Bozinovski and Fulgos \n",
    "- Really useful for generalizing a model domain to a similar one\n",
    "- Can significantly boost performance of models on tasks for which very few labeled data is available\n",
    "- Applications vary from Natural Language Processing, Computer Vision, Computational Biology, Autonomous Driving Industry, etc."
   ]
  },
  {
   "cell_type": "markdown",
   "metadata": {
    "slideshow": {
     "slide_type": "subslide"
    }
   },
   "source": [
    "### Typical Transfer Learning Workflow:\n",
    "\n",
    "   1) Obtain a pre-trained model \n",
    "   2) Create a base model \n",
    "   3) Freeze all the layers \n",
    "   4) Add new trainable layers (e.g. a \"classification head\")\n",
    "   5) Train only the new layers\n",
    "   6) (optional) Fine tune all layers at low learning rate\n",
    "   \n",
    "<center>\n",
    "    <img src=\"transferlearning.jpg\" alt=\"Drawing\" style=\"width: 600px;\"/>Figure 4: Transfer Learning [6]</center>"
   ]
  },
  {
   "cell_type": "markdown",
   "metadata": {
    "id": "u6lSjisrfjq3",
    "slideshow": {
     "slide_type": "subslide"
    }
   },
   "source": [
    "# <font color=\"orange\">Plan</font>\n",
    "\n",
    "- **Experiment One** -  using 100% of the training data for both VICReg and classification head (with backbone weights/biases being fixed). To ensure the algorithm works and as the best case situation and control for the comparison with the second experiment.\n",
    "\n",
    "- **Experiment Two** -  using 80% of the training data for VICReg, and the remaining 20% only for the classification head (with backbone weights/biases being fixed), to simulate self-supervised learning applications with significally less labeled data"
   ]
  },
  {
   "cell_type": "markdown",
   "metadata": {
    "id": "TNIk5SjB1cjX",
    "slideshow": {
     "slide_type": "slide"
    }
   },
   "source": [
    "# <font color=\"orange\">Experiment One </font>\n"
   ]
  },
  {
   "cell_type": "markdown",
   "metadata": {
    "id": "7qGB3qB9fjq4",
    "slideshow": {
     "slide_type": "subslide"
    }
   },
   "source": [
    "## Training"
   ]
  },
  {
   "cell_type": "code",
   "execution_count": null,
   "metadata": {
    "colab": {
     "base_uri": "https://localhost:8080/"
    },
    "id": "-rdEpLVG5QOZ",
    "outputId": "a06e6373-a6b7-45d0-9636-9d857039ba4c",
    "slideshow": {
     "slide_type": "fragment"
    }
   },
   "outputs": [
    {
     "name": "stdout",
     "output_type": "stream",
     "text": [
      "Time to train model: 127.07 minutes\n"
     ]
    }
   ],
   "source": [
    "start = time.time()\n",
    "\n",
    "torch.manual_seed(5)\n",
    "torch.backends.cudnn.benchmark = True # this checks multiple convolution algorithms at the start of running and takes the fastest\n",
    "                                       \n",
    "\n",
    "# initialize model\n",
    "model = VICReg(batchsize)\n",
    "model.to(device) # may get errors if the type of tensor isn't suitable for the cuda architecture\n",
    "optimizer = torch.optim.Adam(model.parameters(), lr=learning_rate) # we chose Adam for simplicity\n",
    "\n",
    "losses=[]\n",
    "\n",
    "for epoch in range(num_epochs):\n",
    "\n",
    "    loss_vals = []\n",
    "\n",
    "    for i, ((x,y), labels) in enumerate(trainloader_siamese):\n",
    "      x = x.to(device)\n",
    "      y = y.to(device)\n",
    "\n",
    "      loss = model.forward(x, y)\n",
    "      optimizer.zero_grad()\n",
    "      loss.backward()\n",
    "      optimizer.step()\n",
    "\n",
    "      loss_vals.append(loss.item())\n",
    "    #print(\"Epoch\", epoch, \"Total Loss:\", sum(loss_vals)/len(trainloader_siamese))\n",
    "    losses.append(sum(loss_vals)/len(trainloader_siamese))\n",
    "\n",
    "print(\"Time to train model:\", round((time.time() - start) / 60,2), \"minutes\" )\n"
   ]
  },
  {
   "cell_type": "code",
   "execution_count": null,
   "metadata": {
    "colab": {
     "base_uri": "https://localhost:8080/",
     "height": 472
    },
    "id": "pqlVL2L7e-dq",
    "outputId": "97e338f2-62c8-453f-9b7d-9773cce801ce",
    "slideshow": {
     "slide_type": "subslide"
    }
   },
   "outputs": [
    {
     "data": {
      "image/png": "[encoded data removed]",
      "text/plain": [
       "<Figure size 640x480 with 1 Axes>"
      ]
     },
     "metadata": {},
     "output_type": "display_data"
    }
   ],
   "source": [
    "# plots the average loss over time\n",
    "plt.plot(range(num_epochs), losses )\n",
    "plt.ylabel(\"Epochs\")\n",
    "plt.xlabel(\"Loss\")\n",
    "plt.title(\"Loss vs. Epochs for VICReg with 100% of Training\")\n",
    "plt.show()\n"
   ]
  },
  {
   "cell_type": "code",
   "execution_count": null,
   "metadata": {
    "id": "jGNyxZ0DXi3R",
    "slideshow": {
     "slide_type": "fragment"
    }
   },
   "outputs": [],
   "source": [
    "# saves the model parameters to drive for later use\n",
    "torch.save(model.state_dict(), '/content/drive/MyDrive/model_vicreg_100')\n"
   ]
  },
  {
   "cell_type": "markdown",
   "metadata": {
    "id": "tTQ-CTw37FUm",
    "slideshow": {
     "slide_type": "subslide"
    }
   },
   "source": [
    "## VicReg Loading"
   ]
  },
  {
   "cell_type": "code",
   "execution_count": null,
   "metadata": {
    "colab": {
     "base_uri": "https://localhost:8080/"
    },
    "id": "2Y538LnmaK-g",
    "outputId": "f5bbd0cb-7d3e-4c95-cf88-0618a98042a7",
    "slideshow": {
     "slide_type": "fragment"
    }
   },
   "outputs": [
    {
     "name": "stdout",
     "output_type": "stream",
     "text": [
      "----------------------------------------------------------------\n",
      "        Layer (type)               Output Shape         Param #\n",
      "================================================================\n",
      "            Conv2d-1           [-1, 16, 32, 32]             432\n",
      "       BatchNorm2d-2           [-1, 16, 32, 32]              32\n",
      "              ReLU-3           [-1, 16, 32, 32]               0\n",
      "            Conv2d-4           [-1, 16, 32, 32]           2,304\n",
      "       BatchNorm2d-5           [-1, 16, 32, 32]              32\n",
      "              ReLU-6           [-1, 16, 32, 32]               0\n",
      "            Conv2d-7           [-1, 16, 32, 32]           2,304\n",
      "       BatchNorm2d-8           [-1, 16, 32, 32]              32\n",
      "              ReLU-9           [-1, 16, 32, 32]               0\n",
      "       BasicBlock-10           [-1, 16, 32, 32]               0\n",
      "           Conv2d-11           [-1, 16, 32, 32]           2,304\n",
      "      BatchNorm2d-12           [-1, 16, 32, 32]              32\n",
      "             ReLU-13           [-1, 16, 32, 32]               0\n",
      "           Conv2d-14           [-1, 16, 32, 32]           2,304\n",
      "      BatchNorm2d-15           [-1, 16, 32, 32]              32\n",
      "             ReLU-16           [-1, 16, 32, 32]               0\n",
      "       BasicBlock-17           [-1, 16, 32, 32]               0\n",
      "           Conv2d-18           [-1, 32, 16, 16]           4,608\n",
      "      BatchNorm2d-19           [-1, 32, 16, 16]              64\n",
      "             ReLU-20           [-1, 32, 16, 16]               0\n",
      "           Conv2d-21           [-1, 32, 16, 16]           9,216\n",
      "      BatchNorm2d-22           [-1, 32, 16, 16]              64\n",
      "      LambdaLayer-23           [-1, 32, 16, 16]               0\n",
      "             ReLU-24           [-1, 32, 16, 16]               0\n",
      "       BasicBlock-25           [-1, 32, 16, 16]               0\n",
      "           Conv2d-26           [-1, 32, 16, 16]           9,216\n",
      "      BatchNorm2d-27           [-1, 32, 16, 16]              64\n",
      "             ReLU-28           [-1, 32, 16, 16]               0\n",
      "           Conv2d-29           [-1, 32, 16, 16]           9,216\n",
      "      BatchNorm2d-30           [-1, 32, 16, 16]              64\n",
      "             ReLU-31           [-1, 32, 16, 16]               0\n",
      "       BasicBlock-32           [-1, 32, 16, 16]               0\n",
      "           Conv2d-33             [-1, 64, 8, 8]          18,432\n",
      "      BatchNorm2d-34             [-1, 64, 8, 8]             128\n",
      "             ReLU-35             [-1, 64, 8, 8]               0\n",
      "           Conv2d-36             [-1, 64, 8, 8]          36,864\n",
      "      BatchNorm2d-37             [-1, 64, 8, 8]             128\n",
      "      LambdaLayer-38             [-1, 64, 8, 8]               0\n",
      "             ReLU-39             [-1, 64, 8, 8]               0\n",
      "       BasicBlock-40             [-1, 64, 8, 8]               0\n",
      "           Conv2d-41             [-1, 64, 8, 8]          36,864\n",
      "      BatchNorm2d-42             [-1, 64, 8, 8]             128\n",
      "             ReLU-43             [-1, 64, 8, 8]               0\n",
      "           Conv2d-44             [-1, 64, 8, 8]          36,864\n",
      "      BatchNorm2d-45             [-1, 64, 8, 8]             128\n",
      "             ReLU-46             [-1, 64, 8, 8]               0\n",
      "       BasicBlock-47             [-1, 64, 8, 8]               0\n",
      "AdaptiveAvgPool2d-48             [-1, 64, 1, 1]               0\n",
      "           Linear-49                   [-1, 10]             650\n",
      "================================================================\n",
      "Total params: 172,506\n",
      "Trainable params: 650\n",
      "Non-trainable params: 171,856\n",
      "----------------------------------------------------------------\n",
      "Input size (MB): 0.01\n",
      "Forward/backward pass size (MB): 3.53\n",
      "Params size (MB): 0.66\n",
      "Estimated Total Size (MB): 4.20\n",
      "----------------------------------------------------------------\n"
     ]
    }
   ],
   "source": [
    "# initialize an instance of the model in order to load its trained parameters from drive \n",
    "model = VICReg(batchsize)\n",
    "model.load_state_dict(torch.load('/content/drive/MyDrive/model_vicreg_100')) \n",
    "\n",
    "# isolate the pretrained backbone from the VicReg model to use it as feature extractor for a ResNet architecture\n",
    "model = model.backbone\n",
    "\n",
    "# freeze all base layers in the \"features\" section of the model (the feature extractor) by setting requires_grad=False\n",
    "for param in model.parameters():\n",
    "    param.requires_grad = False\n",
    "\n",
    "# add a dense layer as classifier head (this will be the only part that now is trained)\n",
    "model.fc = nn.Linear(64, 10)\n",
    "\n",
    "# add model to device (\"cpu\" or \"cuda\" when available)\n",
    "model.to(device)\n",
    "\n",
    "# summary of the model\n",
    "summary(model, input_size = (3,32,32)) #shows that param.requires_grad works to make only the classification head trainable.\n"
   ]
  },
  {
   "cell_type": "markdown",
   "metadata": {
    "id": "RlBllYrt5mLh",
    "slideshow": {
     "slide_type": "subslide"
    }
   },
   "source": [
    "## Training of the classifier head"
   ]
  },
  {
   "cell_type": "code",
   "execution_count": null,
   "metadata": {
    "colab": {
     "base_uri": "https://localhost:8080/"
    },
    "id": "Cuq4SoVcCYif",
    "outputId": "679902ed-7879-4d69-89cf-69a4afd6269a",
    "slideshow": {
     "slide_type": "fragment"
    }
   },
   "outputs": [
    {
     "name": "stdout",
     "output_type": "stream",
     "text": [
      "Time to train model: 19.68 minutes\n"
     ]
    }
   ],
   "source": [
    "start = time.time()\n",
    "torch.manual_seed(5)\n",
    "\n",
    "# define loss and optimizer\n",
    "learning_rate = 0.001\n",
    "num_epochs = 80  \n",
    "optimizer = torch.optim.Adam(model.parameters(), lr=learning_rate)\n",
    "loss = nn.CrossEntropyLoss()\n",
    "\n",
    "\n",
    "losses = []\n",
    "model.train()\n",
    "\n",
    "for epoch in range(num_epochs):\n",
    "  \n",
    "  loss_vals = []\n",
    "  \n",
    "  for i, (images, labels) in enumerate(trainloader):\n",
    "    images = images.to(device)\n",
    "    labels = labels.to(device)\n",
    "\n",
    "    # Forward pass\n",
    "    outputs = model(images)\n",
    "    loss_val = loss(outputs, labels)\n",
    "\n",
    "    # Backward and optimize\n",
    "    optimizer.zero_grad()      #aggregates the results of different epochs\n",
    "    loss_val.backward()\n",
    "    optimizer.step()\n",
    "\n",
    "    loss_vals.append(loss_val.item())\n",
    "\n",
    "\n",
    "  #print(\"Epoch\", epoch, \"loss:\", sum(loss_vals)/len(trainloader))\n",
    "  losses.append(sum(loss_vals)/len(trainloader))\n",
    "\n",
    "print(\"Time to train model:\", round((time.time() - start) / 60,2), \"minutes\" )\n"
   ]
  },
  {
   "cell_type": "code",
   "execution_count": null,
   "metadata": {
    "colab": {
     "base_uri": "https://localhost:8080/"
    },
    "id": "vH3fzJgtWFI6",
    "outputId": "4566cfd7-52e5-4b8d-f9d4-7ae077e99234",
    "slideshow": {
     "slide_type": "subslide"
    }
   },
   "outputs": [
    {
     "data": {
      "image/png": "[encoded data removed]",
      "text/plain": [
       "<Figure size 640x480 with 1 Axes>"
      ]
     },
     "metadata": {},
     "output_type": "display_data"
    }
   ],
   "source": [
    "# plotting the average loss over time\n",
    "plt.plot(range(num_epochs), losses )\n",
    "plt.ylabel(\"Epochs\")\n",
    "plt.xlabel(\"Loss\")\n",
    "plt.title(\"Loss vs. Epochs for Transfer Learning with 100% of Training Data\")\n",
    "plt.show()\n"
   ]
  },
  {
   "cell_type": "markdown",
   "metadata": {
    "id": "q3_HlKoF5_zJ",
    "slideshow": {
     "slide_type": "subslide"
    }
   },
   "source": [
    "### Train set accuracy"
   ]
  },
  {
   "cell_type": "code",
   "execution_count": null,
   "metadata": {
    "colab": {
     "base_uri": "https://localhost:8080/"
    },
    "id": "SBY_YbTqWPXa",
    "outputId": "f8aa493a-9d4f-4b16-d898-415adaa40fca",
    "slideshow": {
     "slide_type": "fragment"
    }
   },
   "outputs": [
    {
     "name": "stdout",
     "output_type": "stream",
     "text": [
      "Accuracy of the model on the train images: 74.638 %\n"
     ]
    }
   ],
   "source": [
    "# Test the model\n",
    "model.eval()\n",
    "with torch.no_grad():\n",
    "    correct = 0\n",
    "    total = 0\n",
    "    for images, labels in trainloader:\n",
    "        images = images.to(device)\n",
    "        labels = labels.to(device)\n",
    "        outputs = model(images)\n",
    "        _, predicted = torch.max(outputs.data, 1)\n",
    "        total += labels.size(0)\n",
    "        correct += (predicted == labels).sum().item()\n",
    "\n",
    "    print('Accuracy of the model on the train images: {} %'.format(100 * correct / total))\n",
    "    "
   ]
  },
  {
   "cell_type": "markdown",
   "metadata": {
    "id": "lYXa2_tu6E8n",
    "slideshow": {
     "slide_type": "subslide"
    }
   },
   "source": [
    "### Test set accuracy"
   ]
  },
  {
   "cell_type": "code",
   "execution_count": null,
   "metadata": {
    "colab": {
     "base_uri": "https://localhost:8080/"
    },
    "id": "2k6ihicaWh9c",
    "outputId": "bfe1a9ec-506a-401c-a05a-b99377e4a9a5",
    "slideshow": {
     "slide_type": "fragment"
    }
   },
   "outputs": [
    {
     "name": "stdout",
     "output_type": "stream",
     "text": [
      "Accuracy of the model on the test images: 74.49 %\n"
     ]
    }
   ],
   "source": [
    "# Test the model\n",
    "model.eval()\n",
    "with torch.no_grad():\n",
    "    correct = 0\n",
    "    total = 0\n",
    "    for images, labels in testloader:\n",
    "        images = images.to(device)\n",
    "        labels = labels.to(device)\n",
    "        outputs = model(images)\n",
    "        _, predicted = torch.max(outputs.data, 1)\n",
    "        total += labels.size(0)\n",
    "        correct += (predicted == labels).sum().item()\n",
    "\n",
    "    print('Accuracy of the model on the test images: {} %'.format(100 * correct / total))\n",
    "    "
   ]
  },
  {
   "cell_type": "markdown",
   "metadata": {
    "id": "vYyIAaK7byNx",
    "slideshow": {
     "slide_type": "slide"
    }
   },
   "source": [
    "# <font color=\"orange\"> Experiment Two </font>\n"
   ]
  },
  {
   "cell_type": "code",
   "execution_count": null,
   "metadata": {
    "colab": {
     "base_uri": "https://localhost:8080/"
    },
    "id": "wDrXUzEqcLxU",
    "outputId": "463de1ee-eb92-42d4-fd72-397af55be279",
    "slideshow": {
     "slide_type": "skip"
    }
   },
   "outputs": [
    {
     "name": "stdout",
     "output_type": "stream",
     "text": [
      "Time to train model: 123.24 minutes\n"
     ]
    }
   ],
   "source": [
    "start = time.time()\n",
    "\n",
    "unlabelled = range(int(len(trainloader_siamese)*0.8)) # splits the dataset for the experiment\n",
    "\n",
    "torch.manual_seed(5)\n",
    "torch.backends.cudnn.benchmark = True\n",
    "\n",
    "model = VICReg(batchsize)\n",
    "model.to(device) # may get errors if the fype of tensor isnt suitable for the cuda archetucture\n",
    "optimizer = torch.optim.Adam(model.parameters(), lr=learning_rate)\n",
    "\n",
    "losses = []\n",
    "\n",
    "for epoch in range(num_epochs):\n",
    "\n",
    "    loss_vals = []\n",
    "\n",
    "    for i, ((x,y), labels) in enumerate(trainloader_siamese):\n",
    "      \n",
    "      if i in unlabelled:   \n",
    "        x = x.to(device)\n",
    "        y = y.to(device)\n",
    "\n",
    "        loss = model.forward(x, y)\n",
    "        \n",
    "        optimizer.zero_grad()\n",
    "        loss.backward()\n",
    "        optimizer.step()\n",
    "\n",
    "        loss_vals.append(loss.item())\n",
    "    \n",
    "    #print(\"Epoch\", epoch, \"Total Loss:\", sum(loss_vals)/len(trainloader_siamese))\n",
    "    losses.append(sum(loss_vals)/len(trainloader_siamese))\n",
    "\n",
    "print(\"Time to train model:\", round((time.time() - start) / 60,2), \"minutes\" )\n"
   ]
  },
  {
   "cell_type": "code",
   "execution_count": null,
   "metadata": {
    "colab": {
     "base_uri": "https://localhost:8080/",
     "height": 472
    },
    "id": "muxrayZUDKr7",
    "outputId": "067d91a8-c8cc-46f7-9154-745a7a0f0851",
    "slideshow": {
     "slide_type": "subslide"
    }
   },
   "outputs": [
    {
     "data": {
      "image/png": "[encoded data removed]",
      "text/plain": [
       "<Figure size 640x480 with 1 Axes>"
      ]
     },
     "metadata": {},
     "output_type": "display_data"
    }
   ],
   "source": [
    "# plots the average loss over time\n",
    "plt.plot(range(num_epochs), losses )\n",
    "plt.ylabel(\"Epochs\")\n",
    "plt.xlabel(\"Loss\")\n",
    "plt.title(\"Loss vs. Epochs for VicReg with 80% of Training Data\")\n",
    "plt.show()"
   ]
  },
  {
   "cell_type": "code",
   "execution_count": null,
   "metadata": {
    "id": "C_-0mUUkDTmK",
    "slideshow": {
     "slide_type": "skip"
    }
   },
   "outputs": [],
   "source": [
    "# saves the model paramenters to drive for later use\n",
    "torch.save(model.state_dict(), '/content/drive/MyDrive/model_vicreg_80')\n"
   ]
  },
  {
   "cell_type": "code",
   "execution_count": null,
   "metadata": {
    "colab": {
     "base_uri": "https://localhost:8080/"
    },
    "id": "P-j-dO4GDbv6",
    "outputId": "2ff533bd-87e3-451f-96c2-e7dd6952ba29",
    "slideshow": {
     "slide_type": "skip"
    }
   },
   "outputs": [
    {
     "data": {
      "text/plain": [
       "ResNet_CIFAR(\n",
       "  (conv1): Conv2d(3, 16, kernel_size=(3, 3), stride=(1, 1), padding=(1, 1), bias=False)\n",
       "  (bn1): BatchNorm2d(16, eps=1e-05, momentum=0.1, affine=True, track_running_stats=True)\n",
       "  (relu): ReLU(inplace=True)\n",
       "  (maxpool): MaxPool2d(kernel_size=3, stride=2, padding=1, dilation=1, ceil_mode=False)\n",
       "  (layer1): Sequential(\n",
       "    (0): BasicBlock(\n",
       "      (conv1): Conv2d(16, 16, kernel_size=(3, 3), stride=(1, 1), padding=(1, 1), bias=False)\n",
       "      (bn1): BatchNorm2d(16, eps=1e-05, momentum=0.1, affine=True, track_running_stats=True)\n",
       "      (relu): ReLU(inplace=True)\n",
       "      (conv2): Conv2d(16, 16, kernel_size=(3, 3), stride=(1, 1), padding=(1, 1), bias=False)\n",
       "      (bn2): BatchNorm2d(16, eps=1e-05, momentum=0.1, affine=True, track_running_stats=True)\n",
       "    )\n",
       "    (1): BasicBlock(\n",
       "      (conv1): Conv2d(16, 16, kernel_size=(3, 3), stride=(1, 1), padding=(1, 1), bias=False)\n",
       "      (bn1): BatchNorm2d(16, eps=1e-05, momentum=0.1, affine=True, track_running_stats=True)\n",
       "      (relu): ReLU(inplace=True)\n",
       "      (conv2): Conv2d(16, 16, kernel_size=(3, 3), stride=(1, 1), padding=(1, 1), bias=False)\n",
       "      (bn2): BatchNorm2d(16, eps=1e-05, momentum=0.1, affine=True, track_running_stats=True)\n",
       "    )\n",
       "  )\n",
       "  (layer2): Sequential(\n",
       "    (0): BasicBlock(\n",
       "      (conv1): Conv2d(16, 32, kernel_size=(3, 3), stride=(2, 2), padding=(1, 1), bias=False)\n",
       "      (bn1): BatchNorm2d(32, eps=1e-05, momentum=0.1, affine=True, track_running_stats=True)\n",
       "      (relu): ReLU(inplace=True)\n",
       "      (conv2): Conv2d(32, 32, kernel_size=(3, 3), stride=(1, 1), padding=(1, 1), bias=False)\n",
       "      (bn2): BatchNorm2d(32, eps=1e-05, momentum=0.1, affine=True, track_running_stats=True)\n",
       "      (downsample): LambdaLayer()\n",
       "    )\n",
       "    (1): BasicBlock(\n",
       "      (conv1): Conv2d(32, 32, kernel_size=(3, 3), stride=(1, 1), padding=(1, 1), bias=False)\n",
       "      (bn1): BatchNorm2d(32, eps=1e-05, momentum=0.1, affine=True, track_running_stats=True)\n",
       "      (relu): ReLU(inplace=True)\n",
       "      (conv2): Conv2d(32, 32, kernel_size=(3, 3), stride=(1, 1), padding=(1, 1), bias=False)\n",
       "      (bn2): BatchNorm2d(32, eps=1e-05, momentum=0.1, affine=True, track_running_stats=True)\n",
       "    )\n",
       "  )\n",
       "  (layer3): Sequential(\n",
       "    (0): BasicBlock(\n",
       "      (conv1): Conv2d(32, 64, kernel_size=(3, 3), stride=(2, 2), padding=(1, 1), bias=False)\n",
       "      (bn1): BatchNorm2d(64, eps=1e-05, momentum=0.1, affine=True, track_running_stats=True)\n",
       "      (relu): ReLU(inplace=True)\n",
       "      (conv2): Conv2d(64, 64, kernel_size=(3, 3), stride=(1, 1), padding=(1, 1), bias=False)\n",
       "      (bn2): BatchNorm2d(64, eps=1e-05, momentum=0.1, affine=True, track_running_stats=True)\n",
       "      (downsample): LambdaLayer()\n",
       "    )\n",
       "    (1): BasicBlock(\n",
       "      (conv1): Conv2d(64, 64, kernel_size=(3, 3), stride=(1, 1), padding=(1, 1), bias=False)\n",
       "      (bn1): BatchNorm2d(64, eps=1e-05, momentum=0.1, affine=True, track_running_stats=True)\n",
       "      (relu): ReLU(inplace=True)\n",
       "      (conv2): Conv2d(64, 64, kernel_size=(3, 3), stride=(1, 1), padding=(1, 1), bias=False)\n",
       "      (bn2): BatchNorm2d(64, eps=1e-05, momentum=0.1, affine=True, track_running_stats=True)\n",
       "    )\n",
       "  )\n",
       "  (avgpool): AdaptiveAvgPool2d(output_size=(1, 1))\n",
       "  (fc): Linear(in_features=64, out_features=10, bias=True)\n",
       ")"
      ]
     },
     "execution_count": 59,
     "metadata": {},
     "output_type": "execute_result"
    }
   ],
   "source": [
    "# VicReg loading for feature extractor isolation\n",
    "model = VICReg(batchsize)\n",
    "model.load_state_dict(torch.load('/content/drive/MyDrive/model_vicreg_80')) \n",
    "\n",
    "model = model.backbone\n",
    "\n",
    "# Freeze all base layers in the \"features\" section of the model (the feature extractor) by setting requires_grad=False\n",
    "for param in model.parameters():\n",
    "    param.requires_grad = False\n",
    "\n",
    "model.fc = nn.Linear(64, 10)\n",
    "\n",
    "model.to(device)\n"
   ]
  },
  {
   "cell_type": "code",
   "execution_count": null,
   "metadata": {
    "colab": {
     "base_uri": "https://localhost:8080/"
    },
    "id": "HlaNWB1MD1wq",
    "outputId": "914fbb21-385d-44d9-e3d5-9b655cabc21f",
    "slideshow": {
     "slide_type": "skip"
    }
   },
   "outputs": [
    {
     "name": "stdout",
     "output_type": "stream",
     "text": [
      "Time to train model: 17.55 minutes\n"
     ]
    }
   ],
   "source": [
    "start = time.time()\n",
    "torch.manual_seed(5)\n",
    "\n",
    "# Define loss and optimizer\n",
    "loss = nn.CrossEntropyLoss()\n",
    "optimizer = torch.optim.Adam(model.parameters(), lr=learning_rate)\n",
    "\n",
    "losses = []\n",
    "model.train()\n",
    "\n",
    "for epoch in range(num_epochs):\n",
    "  \n",
    "  loss_vals = []\n",
    "  \n",
    "  for i, (images, labels) in enumerate(trainloader):\n",
    "    if i not in unlabelled:\n",
    "      images = images.to(device)\n",
    "      labels = labels.to(device)\n",
    "\n",
    "      # Forward pass\n",
    "      outputs = model(images)\n",
    "      loss_val = loss(outputs, labels)\n",
    "\n",
    "      # Backward and optimize\n",
    "      optimizer.zero_grad()      #aggregates the results of different epochs\n",
    "      loss_val.backward()\n",
    "      optimizer.step()\n",
    "\n",
    "      loss_vals.append(loss_val.item())\n",
    "\n",
    "  #print(\"Epoch\", epoch, \"loss:\", sum(loss_vals)/len(trainloader))\n",
    "  losses.append(sum(loss_vals)/len(trainloader))\n",
    "print(\"Time to train model:\", round((time.time() - start) / 60,2), \"minutes\" )\n"
   ]
  },
  {
   "cell_type": "code",
   "execution_count": null,
   "metadata": {
    "colab": {
     "base_uri": "https://localhost:8080/",
     "height": 472
    },
    "id": "au0VqngnD1ra",
    "outputId": "c9c76fb2-5af3-47b0-ef63-b052ef9c5a19",
    "slideshow": {
     "slide_type": "subslide"
    }
   },
   "outputs": [
    {
     "data": {
      "image/png": "[encoded data removed]",
      "text/plain": [
       "<Figure size 640x480 with 1 Axes>"
      ]
     },
     "metadata": {},
     "output_type": "display_data"
    }
   ],
   "source": [
    "# plots the average loss over time\n",
    "plt.plot(range(num_epochs), losses )\n",
    "plt.ylabel(\"Epochs\")\n",
    "plt.xlabel(\"Loss\")\n",
    "plt.title(\"Loss vs. Epochs for Transfer Learning with 80% of Training Data\")\n",
    "plt.show()"
   ]
  },
  {
   "cell_type": "markdown",
   "metadata": {
    "id": "QZImyVwY7zrc",
    "slideshow": {
     "slide_type": "subslide"
    }
   },
   "source": [
    "### Train set accuracy"
   ]
  },
  {
   "cell_type": "code",
   "execution_count": null,
   "metadata": {
    "colab": {
     "base_uri": "https://localhost:8080/"
    },
    "id": "MosWnFRHEMnb",
    "outputId": "9bc058e1-adca-475e-9c50-b3ca5aad1a4e",
    "slideshow": {
     "slide_type": "fragment"
    }
   },
   "outputs": [
    {
     "name": "stdout",
     "output_type": "stream",
     "text": [
      "Accuracy of the model on the train images: 72.946 %\n"
     ]
    }
   ],
   "source": [
    "# Test the model\n",
    "model.eval()\n",
    "with torch.no_grad():\n",
    "    correct = 0\n",
    "    total = 0\n",
    "    for images, labels in trainloader:\n",
    "        images = images.to(device)\n",
    "        labels = labels.to(device)\n",
    "        outputs = model(images)\n",
    "        #print(outputs)\n",
    "        _, predicted = torch.max(outputs.data, 1)\n",
    "        total += labels.size(0)\n",
    "        correct += (predicted == labels).sum().item()\n",
    "\n",
    "    print('Accuracy of the model on the train images: {} %'.format(100 * correct / total))\n",
    "    "
   ]
  },
  {
   "cell_type": "markdown",
   "metadata": {
    "id": "PkfpzUDl73FC",
    "slideshow": {
     "slide_type": "subslide"
    }
   },
   "source": [
    "### Test set accuracy"
   ]
  },
  {
   "cell_type": "code",
   "execution_count": null,
   "metadata": {
    "colab": {
     "base_uri": "https://localhost:8080/"
    },
    "id": "becwvNKhE5Xy",
    "outputId": "c0356ec5-7f5f-4097-a1ea-70af84fbd37a",
    "slideshow": {
     "slide_type": "fragment"
    }
   },
   "outputs": [
    {
     "name": "stdout",
     "output_type": "stream",
     "text": [
      "Accuracy of the model on the test images: 72.67 %\n"
     ]
    }
   ],
   "source": [
    "# Test the model\n",
    "model.eval()\n",
    "with torch.no_grad():\n",
    "    correct = 0\n",
    "    total = 0\n",
    "    for images, labels in testloader:\n",
    "        images = images.to(device)\n",
    "        labels = labels.to(device)\n",
    "        outputs = model(images)\n",
    "        #print(outputs)\n",
    "        _, predicted = torch.max(outputs.data, 1)\n",
    "        #print(predicted)\n",
    "        total += labels.size(0)\n",
    "        correct += (predicted == labels).sum().item()\n",
    "\n",
    "    print('Accuracy of the model on the test images: {} %'.format(100 * correct / total))\n",
    "    "
   ]
  },
  {
   "cell_type": "markdown",
   "metadata": {
    "slideshow": {
     "slide_type": "slide"
    }
   },
   "source": [
    "# <font color=\"orange\"> Results </font>"
   ]
  },
  {
   "cell_type": "markdown",
   "metadata": {
    "slideshow": {
     "slide_type": "subslide"
    }
   },
   "source": [
    "<center>Table 1 - ResNet: CIFAR10 architecture, VICReg_100 (Experiment 1): model trained on 100% of training data for both pre-training and classifier head, VICReg_80 (Experiment 2) with respective 80/20 split.</center>\n",
    "\n",
    "|<font size=\"+2\">Model</font>|<font size=\"+2\">Training Time (min)</font>|<font size=\"+2\">Train Accuracy (%)</font>|<font size=\"+2\">Test Accuracy (%)</font>|\n",
    "|:-:|:-:|:-:|:-:|\n",
    "|<font size=\"+2\">ResNet</font>|<font size=\"+2\">23.14</font>|<font size=\"+2\">99.62</font>|<font size=\"+2\">80.57</font>|\n",
    "|<font size=\"+2\">VICReg_100</font>|<font size=\"+2\">127.07 + 19.68</font>|<font size=\"+2\">74.64</font>|<font size=\"+2\">74.49</font>|\n",
    "|<font size=\"+2\">VICReg_80</font>|<font size=\"+2\">123.24 + 17.55</font>|<font size=\"+2\">72.95</font>|<font size=\"+2\">72.67</font>|"
   ]
  },
  {
   "cell_type": "markdown",
   "metadata": {
    "slideshow": {
     "slide_type": "fragment"
    }
   },
   "source": [
    "## Positives\n",
    "\n",
    "- Overall we have found notable performances when using the VICReg approach, and it has successfully demonstrated its value\n",
    "- Accuracy on the test set is comparable the traditional ResNet training performance\n",
    "- Robust learning (accuracy on test and train set are similar, i.e. no overfitting)\n",
    "- Excellent results from the implementation of self supervised learning simulating  a small labeled datasets, as there isn't large differences when using the whole data set"
   ]
  },
  {
   "cell_type": "markdown",
   "metadata": {
    "slideshow": {
     "slide_type": "fragment"
    }
   },
   "source": [
    "## Negatives\n",
    "- Really long computing times (order of the hour) even with GPU\n",
    "- Limited architecture and transformations due to CIFAR10 nature\n",
    "- Non-optimized parameters\n",
    "- Testing restricted by time/computational power limits"
   ]
  },
  {
   "cell_type": "markdown",
   "metadata": {
    "slideshow": {
     "slide_type": "subslide"
    }
   },
   "source": [
    "## Future Improvements\n",
    "\n",
    "- Testing the applied methods again on larger datasets (e.g. ImageNet)\n",
    "- Also try datasets of varying nature (including segmentation tasks) with VICRegL\n",
    "- Add more transformations/better optimizer\n",
    "- Attempt different ratios for the training dataset to find the minimum labelled data that give acceptable results\n",
    "- Increase number of epochs, and impose a stopping condition\n",
    "- Free the two networks of the siamese architecture from sharing the same weigths\n",
    "- Test the suitability of the method for multi-modal inputs (very promising)"
   ]
  },
  {
   "cell_type": "markdown",
   "metadata": {
    "id": "GFuFzcWzfjq7",
    "slideshow": {
     "slide_type": "skip"
    }
   },
   "source": [
    "# References \n",
    "1) CIFAR-10 and CIFAR-100 datasets. (2017, April 08). Retrieved from https://www.cs.toronto.edu/~kriz/cifar.html\n",
    "2) A. Bardes, J. Ponce, Y. LeCun, VICREG: Variance-Invariance-Covariance Regularization For Self-Supervised Learning, 2022, ICLR\n",
    "3) K. He, X. Zhang, S. Ren, J. Sun, Deep Residual Learning for Image Recognition, 2015  \n",
    "4) facebookresearch. (2023, May 06). vicreg. Retrieved from https://github.com/facebookresearch/vicreg\n",
    "5) Ruiz, P. (2018). ResNets for CIFAR-10 - Towards Data Science. Medium. Retrieved from https://towardsdatascience.com/resnets-for-cifar-10-e63e900524e0\n",
    "6) Bhavsar, P. (2021). An Ultimate Guide To Transfer Learning In NLP. TOPBOTS. Retrieved from https://www.topbots.com/transfer-learning-in-nlp\n",
    "7) akamaster. (2023, June 13). pytorch_resnet_cifar10. Retrieved from https://github.com/akamaster/pytorch_resnet_cifar10"
   ]
  }
 ],
 "metadata": {
  "accelerator": "GPU",
  "celltoolbar": "Slideshow",
  "colab": {
   "gpuType": "T4",
   "provenance": []
  },
  "gpuClass": "standard",
  "kernelspec": {
   "display_name": "Python 3 (ipykernel)",
   "language": "python",
   "name": "python3"
  },
  "language_info": {
   "codemirror_mode": {
    "name": "ipython",
    "version": 3
   },
   "file_extension": ".py",
   "mimetype": "text/x-python",
   "name": "python",
   "nbconvert_exporter": "python",
   "pygments_lexer": "ipython3",
   "version": "3.9.15"
  },
  "rise": {
   "scroll": true
  },
  "vscode": {
   "interpreter": {
    "hash": "4d9defa72c2715dab9f7f172572cd30a1ab1a2083462d32ef96aadb7c6e0c73b"
   }
  }
 },
 "nbformat": 4,
 "nbformat_minor": 1
}
